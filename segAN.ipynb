{
 "cells": [
  {
   "attachments": {},
   "cell_type": "markdown",
   "metadata": {},
   "source": [
    "# Import Modules"
   ]
  },
  {
   "cell_type": "code",
   "execution_count": 13,
   "metadata": {},
   "outputs": [],
   "source": [
    "import torch \n",
    "import torch.nn as nn\n",
    "from torch.utils.data import DataLoader, Dataset\n",
    "import torch.optim as optim\n",
    "from torch.optim import lr_scheduler\n",
    "import albumentations as A\n",
    "import torchvision.transforms.functional as TF\n",
    "\n",
    "\n",
    "import numpy as np\n",
    "import cv2\n",
    "import os, time\n",
    "import matplotlib.pyplot as plt\n",
    "from glob import glob\n",
    "\n",
    "from torch.utils.tensorboard import SummaryWriter\n"
   ]
  },
  {
   "attachments": {},
   "cell_type": "markdown",
   "metadata": {},
   "source": [
    "# Check GPUs"
   ]
  },
  {
   "cell_type": "code",
   "execution_count": 14,
   "metadata": {},
   "outputs": [
    {
     "name": "stdout",
     "output_type": "stream",
     "text": [
      "cuda\n",
      "0\n"
     ]
    }
   ],
   "source": [
    "device = torch.device(\"cuda\" if torch.cuda.is_available() else 'cpu')\n",
    "torch.cuda.set_device(0)\n",
    "\n",
    "print(device)\n",
    "print(torch.cuda.current_device())"
   ]
  },
  {
   "attachments": {},
   "cell_type": "markdown",
   "metadata": {},
   "source": [
    "# Set Parameters"
   ]
  },
  {
   "cell_type": "code",
   "execution_count": 15,
   "metadata": {},
   "outputs": [
    {
     "name": "stdout",
     "output_type": "stream",
     "text": [
      "Dataset Size:\n",
      "Train images: 3813\t Train masks: 3813\n",
      "Val images: 195\t Val masks: 195\n"
     ]
    }
   ],
   "source": [
    "LEARNING_RATE= 1e-3\n",
    "BATCH_SIZE= 4\n",
    "NUM_EPOCHS= 10\n",
    "NUM_WORKERS= 0\n",
    "\n",
    "IMAGE_HEIGHT= 512\n",
    "IMAGE_WIDTH= 416\n",
    "PIN_MEMORY= True\n",
    "LOAD_MODEL= False\n",
    "\n",
    "# num_block= [3, 4, 6, 3];\n",
    "features_depth= [64, 128, 256, 512]\n",
    "input_channel= 1 \n",
    "num_classes= 3\n",
    "\n",
    "model_category = 'segAN'\n",
    "checkpoint_path = 'segAN.pth'\n",
    "# training_checkpoint = 'training_checkpoint.pth'\n",
    "\n",
    "TRAIN_IMG_DIR = sorted(glob(\"/home/haobo/HaoboSeg-pytorch/data_all/train_f/*\"))\n",
    "TRAIN_MASK_DIR = sorted(glob(\"/home/haobo/HaoboSeg-pytorch/data_all/train_m/*\"))\n",
    "\n",
    "VAL_IMG_DIR = sorted(glob(\"/home/haobo/HaoboSeg-pytorch/data_all/val_f/*\"))\n",
    "VAL_MASK_DIR = sorted(glob(\"/home/haobo/HaoboSeg-pytorch/data_all/val_m/*\"))\n",
    "\n",
    "data_str = f\"Dataset Size:\\nTrain images: {len(TRAIN_IMG_DIR)}\\t Train masks: {len(TRAIN_MASK_DIR)}\"\n",
    "print(data_str)\n",
    "\n",
    "data_str = f\"Val images: {len(VAL_IMG_DIR)}\\t Val masks: {len(VAL_MASK_DIR)}\"\n",
    "print(data_str)"
   ]
  },
  {
   "attachments": {},
   "cell_type": "markdown",
   "metadata": {},
   "source": [
    "# Create Dataset"
   ]
  },
  {
   "cell_type": "code",
   "execution_count": 16,
   "metadata": {},
   "outputs": [
    {
     "data": {
      "text/plain": [
       "954"
      ]
     },
     "execution_count": 16,
     "metadata": {},
     "output_type": "execute_result"
    }
   ],
   "source": [
    "class EchoDataset(Dataset):\n",
    "    def __init__(self, images_path, masks_path, transform=None):\n",
    "        self.images_path = images_path\n",
    "        self.masks_path = masks_path\n",
    "        self.transform = transform\n",
    "\n",
    "\n",
    "    def __getitem__(self, index):\n",
    "        image = cv2.imread(self.images_path[index], cv2.IMREAD_GRAYSCALE)\n",
    "        image = cv2.resize(image, (IMAGE_WIDTH, IMAGE_HEIGHT), interpolation=cv2.INTER_NEAREST)\n",
    "        image = image/image.max()\n",
    "        image = np.expand_dims(image, axis=0)\n",
    "        image = image.astype(np.float32)\n",
    "\n",
    "        mask = cv2.imread(self.masks_path[index], cv2.IMREAD_GRAYSCALE)        \n",
    "        mask = cv2.resize(mask, (IMAGE_WIDTH, IMAGE_HEIGHT), interpolation=cv2.INTER_NEAREST)\n",
    "        masks = [(mask==c) for c in range(3)]\n",
    "        mask = np.stack(masks, axis=0)\n",
    "        mask = mask.astype(np.float32)\n",
    "\n",
    "        if self.transform is not None:\n",
    "            augmentation= self.transform(image= image, mask= mask)\n",
    "            image = augmentation['image']\n",
    "            mask = augmentation['mask']\n",
    "\n",
    "            # image = np.transpose(image, (1,2,0)).to(torch.float32)\n",
    "            # mask = mask.to(torch.float32)\n",
    "\n",
    "        return image, mask, self.images_path[index]\n",
    "\n",
    "    def __len__(self):\n",
    "        return len(self.images_path)\n",
    "\n",
    "transform = A.Compose([\n",
    "    A.HorizontalFlip(p=0.5),\n",
    "    A.RandomGamma(gamma_limit= 70,p=0.6)\n",
    "\n",
    "])\n",
    "\n",
    "def get_train_data(train_img_dir, train_mask_dir, val_img_dir, val_mask_dir, batch_size, train_transform, val_transform, num_workers, pin_memory):\n",
    "    train_ds= EchoDataset(train_img_dir, train_mask_dir, train_transform)\n",
    "    train_dataloader= DataLoader(train_ds, batch_size=batch_size,\n",
    "                                 shuffle=True, \n",
    "                                 num_workers=num_workers,\n",
    "                                 pin_memory=pin_memory)\n",
    "    val_ds= EchoDataset(val_img_dir, val_mask_dir, val_transform)\n",
    "    val_dataloader= DataLoader(val_ds, batch_size=batch_size,\n",
    "                               shuffle=False,\n",
    "                               num_workers=num_workers,\n",
    "                               pin_memory=pin_memory)\n",
    "\n",
    "    return train_dataloader, val_dataloader\n",
    "\n",
    "def get_test_data(test_img_dir, test_mask_dir, batch_size, test_transform, num_workers, pin_memory):\n",
    "    test_ds= EchoDataset(test_img_dir, test_mask_dir, test_transform)\n",
    "    test_dataloader= DataLoader(test_ds, batch_size=batch_size,\n",
    "                                shuffle= False,\n",
    "                                num_workers=num_workers,\n",
    "                                pin_memory=pin_memory) \n",
    "    return test_dataloader\n",
    "\n",
    "\n",
    "# train_ds= EchoDataset(TRAIN_IMG_DIR, TRAIN_MASK_DIR, transform)\n",
    "# print(ds[1][0].dtype)\n",
    "train_dataloader, val_dataloader = get_train_data(train_img_dir= TRAIN_IMG_DIR, train_mask_dir= TRAIN_MASK_DIR, \n",
    "                                                  val_img_dir= VAL_IMG_DIR, val_mask_dir= VAL_MASK_DIR, \n",
    "                                                  train_transform=None, val_transform=None,\n",
    "                                                  batch_size= BATCH_SIZE, \n",
    "                                                  num_workers= NUM_WORKERS, \n",
    "                                                  pin_memory= PIN_MEMORY)\n",
    "\n",
    "len(train_dataloader)\n",
    "\n",
    "                        "
   ]
  },
  {
   "attachments": {},
   "cell_type": "markdown",
   "metadata": {},
   "source": [
    "# Call Model"
   ]
  },
  {
   "cell_type": "code",
   "execution_count": 45,
   "metadata": {},
   "outputs": [
    {
     "name": "stdout",
     "output_type": "stream",
     "text": [
      "torch.Size([8, 1, 160, 160])\n",
      "torch.Size([8, 3, 160, 160])\n"
     ]
    }
   ],
   "source": [
    "class down_conv(nn.Module):\n",
    "    \"\"\" Down convolution with a kernel size of 4x4 and optional batch normalization.\n",
    "    Args:\n",
    "    in_c : int\n",
    "    out_c: int\n",
    "    stride: int\n",
    "    batch_normalization: bool\n",
    "    \"\"\"\n",
    "    def __init__(self, in_c, out_c, batch_normalization=True):\n",
    "        super().__init__()\n",
    "        \n",
    "        self.conv= nn.Conv2d(in_c, out_c, kernel_size=4, stride=2, padding=1)\n",
    "        if batch_normalization:\n",
    "            self.bn= nn.BatchNorm2d(out_c)\n",
    "        else: \n",
    "            self.bn = None\n",
    "        self.relu= nn.LeakyReLU()\n",
    "\n",
    "    def forward(self, x):\n",
    "        x= self.conv(x)\n",
    "        if self.bn:\n",
    "            x= self.bn(x)\n",
    "        x= self.relu(x)\n",
    "\n",
    "        return x\n",
    "\n",
    "class up_conv(nn.Module):\n",
    "    def __init__(self, in_c, out_c):\n",
    "        super().__init__()\n",
    "        self.upsample= nn.ConvTranspose2d(in_c, out_c, kernel_size=2, stride=2, padding=0)\n",
    "        # self.conv= nn.Conv2d(in_c+in_c, out_c, kernel_size=3, stride=1)\n",
    "        self.conv= nn.Conv2d(out_c, out_c, kernel_size=3, stride=1, padding=1)\n",
    "        self.bn= nn.BatchNorm2d(out_c)\n",
    "        self.relu= nn.ReLU()\n",
    "\n",
    "    def forward(self, x):\n",
    "        # x= torch.cat([x, skip], axis=1)\n",
    "        x= self.upsample(x)\n",
    "        # print(x.shape)\n",
    "        x= self.conv(x)\n",
    "        x= self.bn(x)\n",
    "        x= self.relu(x)\n",
    "        return x\n",
    "\n",
    "class final_conv(nn.Module):\n",
    "    def __init__(self, in_c, out_c):\n",
    "        super().__init__()\n",
    "        self.upsample= nn.ConvTranspose2d(in_c, out_c, kernel_size=2, stride=2, padding=0)\n",
    "        self.conv= nn.Conv2d(out_c, out_c, kernel_size=3, stride=1, padding=1)\n",
    "\n",
    "    def forward(self, x):\n",
    "        x= self.upsample(x)\n",
    "        x= self.conv(x)\n",
    "        # need to add sigmoid?\n",
    "        return x\n",
    "\n",
    "class segmentor(nn.Module):\n",
    "    def __init__(self, num_classes, input_depth, filter_size= [64, 128, 256, 512]):\n",
    "        super().__init__()\n",
    "        self.encoder1= down_conv(input_depth, filter_size[0], batch_normalization=False) # 1 -> 64\n",
    "        self.encoder2= down_conv(filter_size[0], filter_size[1]) # 64 -> 128\n",
    "        self.encoder3= down_conv(filter_size[1], filter_size[2]) # 128 -> 256\n",
    "        self.encoder4= down_conv(filter_size[2], filter_size[3]) # 256 -> 512\n",
    "\n",
    "        self.decoder1= up_conv(filter_size[3], filter_size[2]) # 512 -> 256\n",
    "        self.decoder2= up_conv(filter_size[2] + filter_size[2], filter_size[1]) # (256+256) -> 128 (double the initial size because of concatenation)\n",
    "        self.decoder3= up_conv(filter_size[1] + filter_size[1], filter_size[0]) # (128+128) -> 64\n",
    "\n",
    "        self.final_conv= final_conv(filter_size[0] + filter_size[0], 3) # (64+64) -> 3\n",
    "\n",
    "        self.output= nn.Conv2d(3, num_classes, kernel_size=1)\n",
    "    \n",
    "    def forward(self, x):\n",
    "        el1= self.encoder1(x)\n",
    "        # print(\"el1:\" ,el1.shape)\n",
    "        el2= self.encoder2(el1)\n",
    "        # print(\"el2:\" ,el2.shape)\n",
    "        el3= self.encoder3(el2)\n",
    "        # print(\"el3:\" ,el3.shape)\n",
    "        el4= self.encoder4(el3)\n",
    "        # print(\"el4:\" ,el4.shape)\n",
    "\n",
    "        dl1= self.decoder1(el4)\n",
    "        # print(\"dl1:\" ,dl1.shape)\n",
    "        # print(\"cat:\", torch.cat([dl1, el3], axis=1).shape)\n",
    "        dl2= self.decoder2(torch.cat([dl1, el3], axis=1))\n",
    "        # print(\"dl2:\" ,dl2.shape)\n",
    "        dl3= self.decoder3(torch.cat([dl2, el2], axis=1))\n",
    "        # print(\"dl3:\" ,dl3.shape)\n",
    "\n",
    "        dl4= self.final_conv(torch.cat([dl3, el1], axis=1))\n",
    "\n",
    "        output= self.output(dl4)\n",
    "\n",
    "        return output\n",
    "\n",
    "class critic(nn.Module):\n",
    "    def __init__(self):\n",
    "        super().__init__()\n",
    "\n",
    "        self.conv1= nn.Conv2d(1,10, kernel_size=5)\n",
    "        self.conv2= nn.Conv2d(10,20, kernel_size=5)\n",
    "        self.conv2_drop= nn.Dropout2d()\n",
    "        \n",
    "        \n",
    "\n",
    "\n",
    "\n",
    "\n",
    "input_channel=1\n",
    "x= torch.rand((8, input_channel, 160, 160))\n",
    "# ans= nn.Conv2d(3, 3, kernel_size=1)(x)\n",
    "# ans= up_conv(input_channel, 256)(x)\n",
    "# ans= down_conv(input_channel, 3, False)(x)\n",
    "ans= segmentor(3, input_channel, filter_size=features_depth)(x)\n",
    "print(x.shape)\n",
    "print(ans.shape)\n",
    "\n"
   ]
  },
  {
   "cell_type": "code",
   "execution_count": null,
   "metadata": {},
   "outputs": [],
   "source": []
  }
 ],
 "metadata": {
  "kernelspec": {
   "display_name": ".venv",
   "language": "python",
   "name": "python3"
  },
  "language_info": {
   "codemirror_mode": {
    "name": "ipython",
    "version": 3
   },
   "file_extension": ".py",
   "mimetype": "text/x-python",
   "name": "python",
   "nbconvert_exporter": "python",
   "pygments_lexer": "ipython3",
   "version": "3.8.10"
  },
  "orig_nbformat": 4
 },
 "nbformat": 4,
 "nbformat_minor": 2
}
