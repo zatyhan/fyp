{
 "cells": [
  {
   "cell_type": "code",
   "execution_count": 1,
   "metadata": {},
   "outputs": [],
   "source": [
    "import SimpleITK as sitk\n",
    "import numpy as np\n",
    "from cv2 import cv2\n",
    "from motionSegmentation import simpleSolver\n",
    "import medImgProc.processFunc as pf\n",
    "import os\n",
    "import shutil as sh"
   ]
  },
  {
   "cell_type": "code",
   "execution_count": 2,
   "metadata": {},
   "outputs": [],
   "source": [
    "start_slice = 9\n",
    "end_slice   = 13\n",
    "anchor_1    = 11\n",
    "anchor_2    = 25\n",
    "start_t     = 0\n",
    "end_t       = 27\n",
    "label_t     = anchor_1\n",
    "case_path   = \"/home/haobo/Documents/UROP2021/20APR2021P1_1/\" \n",
    "paras_path  = case_path + 'paras/'\n",
    "label_file  = 'label{}.png'.format(label_t)"
   ]
  },
  {
   "cell_type": "code",
   "execution_count": 3,
   "metadata": {},
   "outputs": [
    {
     "data": {
      "text/plain": [
       "\"\\n# rm_arrowsh\\nfor i in range(start_slice, end_slice + 1):\\n    path  = paras_path + 'para{}/'.format(i)\\n    path2 = paras_path + 'para{}_new/'.format(i)\\n    if not os.path.exists(path2):\\n        os.makedirs(path2)\\n\\n    dirs = os.listdir(path)\\n    for f in dirs:\\n        img = cv2.imread(paras_path + 'para{}/'.format(i) + f, 0)\\n        if img is not None and f[0] != 'S':\\n            \\n            listCoordmax0 = np.where(img > 200)\\n            listCoordmax = list(zip(listCoordmax0[0], listCoordmax0[1]))\\n            listfilling = list(zip(listCoordmax0[0], listCoordmax0[1] - 5))\\n            \\n            for pos1, pos2 in zip(listCoordmax, listfilling):\\n                img[pos1] = img[pos2]\\n            # print(path+f)\\n            \\n            cv2.imwrite(path2 + f, img)\\n\""
      ]
     },
     "execution_count": 3,
     "metadata": {},
     "output_type": "execute_result"
    }
   ],
   "source": [
    "\n",
    "\"\"\"\n",
    "# rm_arrowsh\n",
    "for i in range(start_slice, end_slice + 1):\n",
    "    path  = paras_path + 'para{}/'.format(i)\n",
    "    path2 = paras_path + 'para{}_new/'.format(i)\n",
    "    if not os.path.exists(path2):\n",
    "        os.makedirs(path2)\n",
    "\n",
    "    dirs = os.listdir(path)\n",
    "    for f in dirs:\n",
    "        img = cv2.imread(paras_path + 'para{}/'.format(i) + f, 0)\n",
    "        if img is not None and f[0] != 'S':\n",
    "            \n",
    "            listCoordmax0 = np.where(img > 200)\n",
    "            listCoordmax = list(zip(listCoordmax0[0], listCoordmax0[1]))\n",
    "            listfilling = list(zip(listCoordmax0[0], listCoordmax0[1] - 5))\n",
    "            \n",
    "            for pos1, pos2 in zip(listCoordmax, listfilling):\n",
    "                img[pos1] = img[pos2]\n",
    "            # print(path+f)\n",
    "            \n",
    "            cv2.imwrite(path2 + f, img)\n",
    "\"\"\""
   ]
  },
  {
   "cell_type": "code",
   "execution_count": 4,
   "metadata": {},
   "outputs": [
    {
     "data": {
      "text/plain": [
       "\"\\nfor i in range(start_slice, end_slice + 1):\\n    path  = paras_path + 'para{}/'.format(i)\\n    path2 = paras_path + 'para{}_new/'.format(i)\\n    if not os.path.exists(path2):\\n        os.makedirs(path2)\\n\\n    dirs = os.listdir(path)\\n    for f in dirs:\\n        img = cv2.imread(paras_path + 'para{}/'.format(i) + f, 0)\\n        if img is not None and f[0] != 'S':\\n            \\n            img = img[40:390, 40:476-30, ...]\\n            # print(path+f)\\n            cv2.imwrite(path2 + f, img)\\n\""
      ]
     },
     "execution_count": 4,
     "metadata": {},
     "output_type": "execute_result"
    }
   ],
   "source": [
    "# rm_arrows(02Mar)\n",
    "\"\"\"\n",
    "for i in range(start_slice, end_slice + 1):\n",
    "    path  = paras_path + 'para{}/'.format(i)\n",
    "    path2 = paras_path + 'para{}_new/'.format(i)\n",
    "    if not os.path.exists(path2):\n",
    "        os.makedirs(path2)\n",
    "\n",
    "    dirs = os.listdir(path)\n",
    "    for f in dirs:\n",
    "        img = cv2.imread(paras_path + 'para{}/'.format(i) + f, 0)\n",
    "        if img is not None and f[0] != 'S':\n",
    "            \n",
    "            img = img[40:390, 40:476-30, ...]\n",
    "            # print(path+f)\n",
    "            cv2.imwrite(path2 + f, img)\n",
    "\"\"\""
   ]
  },
  {
   "cell_type": "code",
   "execution_count": 5,
   "metadata": {},
   "outputs": [],
   "source": [
    "# convert.py\n",
    "for i in range(start_slice, end_slice + 1): \n",
    "    label_1 = 255 - cv2.imread(case_path + 'time{0:03d}/Segmented/Segmented Slice{1:03d}.png'.format(anchor_1, i))\n",
    "    # print('time{0:03d}/segmented/Segmented Slice{1:03d}.png'.format(anchor_1, i).format(anchor_1, i))\n",
    "    label_2 = 255 - cv2.imread(case_path + 'time{0:03d}/Segmented/Segmented Slice{1:03d}.png'.format(anchor_2, i))\n",
    "    # print(label_1.shape)\n",
    "    label_1 = np.uint8(label_1 == 0)*100 + 50\n",
    "    label_2 = np.uint8(label_2 == 0)*100 + 50\n",
    "\n",
    "    cv2.imwrite(paras_path + 'para{}_new/label{}.png'.format(i, anchor_1), label_1)\n",
    "    cv2.imwrite(paras_path + 'para{}_new/label{}.png'.format(i, anchor_2), label_2)"
   ]
  },
  {
   "cell_type": "code",
   "execution_count": 6,
   "metadata": {},
   "outputs": [
    {
     "data": {
      "text/plain": [
       "\" \\nfor i in range(start_slice, end_slice + 1): \\n    label_1 = 255 - cv2.imread(case_path + 'time{0:03d}/Segmented/Segmented Slice{1:03d}.png'.format(anchor_1, i))\\n    # print('time{0:03d}/segmented/Segmented Slice{1:03d}.png'.format(anchor_1, i).format(anchor_1, i))\\n    label_2 = 255 - cv2.imread(case_path + 'time{0:03d}/Segmented/Segmented Slice{1:03d}.png'.format(anchor_2, i))\\n    # print(label_1.shape)\\n    label_1 = label_1[40:390, 40:476-30, ...]\\n    label_2 = label_2[40:390, 40:476-30, ...]\\n    label_1 = np.uint8(label_1 == 0)*100 + 50\\n    label_2 = np.uint8(label_2 == 0)*100 + 50\\n    cv2.imwrite(paras_path + 'para{}_new/label{}.png'.format(i, anchor_1), label_1)\\n    cv2.imwrite(paras_path + 'para{}_new/label{}.png'.format(i, anchor_2), label_2)\\n\""
      ]
     },
     "execution_count": 6,
     "metadata": {},
     "output_type": "execute_result"
    }
   ],
   "source": [
    "# convert.py(02Mar)\n",
    "\"\"\" \n",
    "for i in range(start_slice, end_slice + 1): \n",
    "    label_1 = 255 - cv2.imread(case_path + 'time{0:03d}/Segmented/Segmented Slice{1:03d}.png'.format(anchor_1, i))\n",
    "    # print('time{0:03d}/segmented/Segmented Slice{1:03d}.png'.format(anchor_1, i).format(anchor_1, i))\n",
    "    label_2 = 255 - cv2.imread(case_path + 'time{0:03d}/Segmented/Segmented Slice{1:03d}.png'.format(anchor_2, i))\n",
    "    # print(label_1.shape)\n",
    "    label_1 = label_1[40:390, 40:476-30, ...]\n",
    "    label_2 = label_2[40:390, 40:476-30, ...]\n",
    "    label_1 = np.uint8(label_1 == 0)*100 + 50\n",
    "    label_2 = np.uint8(label_2 == 0)*100 + 50\n",
    "    cv2.imwrite(paras_path + 'para{}_new/label{}.png'.format(i, anchor_1), label_1)\n",
    "    cv2.imwrite(paras_path + 'para{}_new/label{}.png'.format(i, anchor_2), label_2)\n",
    "\"\"\"\n"
   ]
  },
  {
   "cell_type": "code",
   "execution_count": 7,
   "metadata": {},
   "outputs": [
    {
     "name": "stdout",
     "output_type": "stream",
     "text": [
      "float32\n",
      "float32\n",
      "float32\n",
      "float32\n",
      "float32\n",
      "float32\n",
      "float32\n",
      "float32\n",
      "float32\n",
      "float32\n"
     ]
    }
   ],
   "source": [
    "# solve.py\n",
    "for slice in range(start_slice, end_slice + 1):\n",
    "    anchor= [[anchor_1 - 1 , anchor_2 - 1,paras_path + 'para{}_new/label{}.png'.format(slice, anchor_1), paras_path + 'para{}_new/label{}.png'.format(slice, anchor_2)]]\n",
    "    savePath = paras_path + 'para{}_new/'.format(slice)\n",
    "    if not os.path.exists(savePath + 'scale.txt'):\n",
    "        sh.copyfile(paras_path + '../scale.txt', savePath + 'scale.txt')\n",
    "    simpleSolver(savePath,startstep=1,endstep=6,fileScale=None,\n",
    "                 getCompoundTimeList=range(start_t, end_t + 1),\n",
    "                 compoundSchemeList=None,fftLagrangian=True,\n",
    "                 pngFileFormat=None,period=None,maskImg=True,\n",
    "                 anchor=anchor,bgrid=30.,imgfmt='uint8',\n",
    "                 finalShape=None,fourierTerms=4,twoD=True)\n",
    "    # change everything to appropriate dimensions before mp.image.save"
   ]
  },
  {
   "cell_type": "code",
   "execution_count": 9,
   "metadata": {},
   "outputs": [
    {
     "name": "stdout",
     "output_type": "stream",
     "text": [
      " \n",
      " \n",
      " \n",
      " \n",
      " \n"
     ]
    }
   ],
   "source": [
    "# transform.py\n",
    "# Transforms the labels to the labels of the appropriate time points\n",
    "\n",
    "for slice in range(start_slice, end_slice + 1):\n",
    "    label = cv2.imread(paras_path + '/para{}_new/'.format(slice) + label_file,  0)\n",
    "    stlFile = cv2.GaussianBlur(label, (5,5), 20)\n",
    "    # print(label)\n",
    "    for t in range(start_t, end_t + 1):\n",
    "        if t != label_t-1:\n",
    "            trfFile = paras_path + '/para{}_new/bsfTransform/t{}to{}.txt'.format(slice, t, label_t - 1)\n",
    "            # print(trfFile)\n",
    "            pf.transform_img2img(stlFile, trfFile,savePath=paras_path + 'para{}_new'.format(slice),fileName='trf{}'.format(t), scale=0.322581)    # scale should be the same as that in 'scale.txt'\n",
    "            trf_dir = paras_path + '/para{}_new/trfs/'.format(slice)\n",
    "            if not os.path.exists(trf_dir):\n",
    "                os.makedirs(trf_dir)\n",
    "            img = sitk.ReadImage(paras_path + '/para{}_new/trf{}.mha'.format(slice, t))\n",
    "            array = sitk.GetArrayFromImage(img)\n",
    "            array = np.uint8(array > 80)*255\n",
    "            cv2.imwrite(trf_dir + 'trf{}.png'.format(t + 1), array)\n",
    "        else:\n",
    "            print(\" \")\n",
    "            trf_dir = paras_path + '/para{}_new/trfs/'.format(slice)\n",
    "            array = np.uint8(label > 80)*255\n",
    "            cv2.imwrite(trf_dir + 'trf{}.png'.format(t + 1), array)"
   ]
  },
  {
   "cell_type": "code",
   "execution_count": 9,
   "metadata": {},
   "outputs": [],
   "source": [
    "# masking.py\n",
    "for slice in range(start_slice, end_slice + 1):\n",
    "    # print(label)\n",
    "    \n",
    "    for t in range(start_t + 1, end_t + 1):\n",
    "        # pic_file  = case_path + 'time{0:03d}/'.format(t) + 'slice{0:03d}time{1:03d}.png'.format(slice, t)\n",
    "        label = cv2.imread(paras_path + 'para{}_new/'.format(slice) + 'trfs/trf{}.png'.format(t),  0)\n",
    "        pic_file = paras_path + 'para{}_new/'.format(slice) + 'time{0:03d}.png'.format(t)\n",
    "        # print(pic_file)\n",
    "        pic = cv2.imread(pic_file)\n",
    "        pic[..., 2] = 0.8*pic[..., 2] + 0.2 * label             # overlays the  labels to the original picture in red\n",
    "        # dst = pic[..., 2] + 50 * np.uint8(label == label.max())\n",
    "        masked_path = paras_path + 'para{}_new/'.format(slice) + 'masked/'\n",
    "        if not os.path.exists(masked_path):\n",
    "            os.makedirs(masked_path)\n",
    "        # print(masked_path)\n",
    "        cv2.imwrite(masked_path + 'slice{0:03d}time{1:03d}.png'.format(slice, t), pic)"
   ]
  },
  {
   "cell_type": "code",
   "execution_count": null,
   "metadata": {},
   "outputs": [],
   "source": []
  }
 ],
 "metadata": {
  "interpreter": {
   "hash": "34e344647a15e8c41ec7840255d6e12198a09690ef98325a80686ac6b963e402"
  },
  "kernelspec": {
   "display_name": "Python 3.8.12 64-bit ('proj3': conda)",
   "name": "python3"
  },
  "language_info": {
   "codemirror_mode": {
    "name": "ipython",
    "version": 3
   },
   "file_extension": ".py",
   "mimetype": "text/x-python",
   "name": "python",
   "nbconvert_exporter": "python",
   "pygments_lexer": "ipython3",
   "version": "3.8.12"
  },
  "orig_nbformat": 4
 },
 "nbformat": 4,
 "nbformat_minor": 2
}
