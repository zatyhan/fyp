{
 "cells": [
  {
   "cell_type": "code",
   "execution_count": 1,
   "metadata": {},
   "outputs": [
    {
     "ename": "SyntaxError",
     "evalue": "can't use starred expression here (BsplineFourier.py, line 2404)",
     "output_type": "error",
     "traceback": [
      "Traceback \u001b[0;36m(most recent call last)\u001b[0m:\n",
      "  File \u001b[1;32m\"/Users/nureizzatyhamzaid/opt/anaconda3/envs/py39/lib/python3.9/site-packages/IPython/core/interactiveshell.py\"\u001b[0m, line \u001b[1;32m3457\u001b[0m, in \u001b[1;35mrun_code\u001b[0m\n    exec(code_obj, self.user_global_ns, self.user_ns)\n",
      "  File \u001b[1;32m\"/var/folders/kq/fq_t9b_94kl8qw825dmz59280000gn/T/ipykernel_9961/2051306866.py\"\u001b[0m, line \u001b[1;32m4\u001b[0m, in \u001b[1;35m<module>\u001b[0m\n    from motionSegmentation import simpleSolvery\n",
      "\u001b[0;36m  File \u001b[0;32m\"/Users/nureizzatyhamzaid/opt/anaconda3/envs/py39/lib/python3.9/site-packages/motionSegmentation/__init__.py\"\u001b[0;36m, line \u001b[0;32m194\u001b[0;36m, in \u001b[0;35m<module>\u001b[0;36m\u001b[0m\n\u001b[0;31m    import motionSegmentation.BsplineFourier as BsplineFourier\u001b[0m\n",
      "\u001b[0;36m  File \u001b[0;32m\"/Users/nureizzatyhamzaid/opt/anaconda3/envs/py39/lib/python3.9/site-packages/motionSegmentation/BsplineFourier.py\"\u001b[0;36m, line \u001b[0;32m2404\u001b[0m\n\u001b[0;31m    resultImage[tuple(imgslice)]+=bspread.reshape((*bspread.shape,*np.ones(len(coef[tuple(gridIndex[n])].shape),dtype=int)))*coef[tuple(gridIndex[n])].reshape((*np.ones(len(bspread.shape),dtype=int)),*coef[tuple(gridIndex[n])].shape)\u001b[0m\n\u001b[0m                                                                                                                                                                ^\u001b[0m\n\u001b[0;31mSyntaxError\u001b[0m\u001b[0;31m:\u001b[0m can't use starred expression here\n"
     ]
    }
   ],
   "source": [
    "import SimpleITK as sitk\n",
    "import numpy as np\n",
    "import cv2\n",
    "from motionSegmentation import simpleSolvery\n",
    "import medImgProc.processFunc as pf\n",
    "import os\n",
    "import shutil as sh"
   ]
  },
  {
   "cell_type": "code",
   "execution_count": null,
   "metadata": {},
   "outputs": [],
   "source": [
    "start_slice = 26\n",
    "end_slice   = 27\n",
    "anchor_1    = 9\n",
    "anchor_2    = 20\n",
    "start_t     = 0\n",
    "end_t       = 19\n",
    "label_t     = anchor_1\n",
    "case_path   = \"/Users/nureizzatyhamzaid/Desktop/FYP_23/Disease/Case 95/Pre_Slices\" \n",
    "paras_path  = case_path + '/paras/'\n",
    "label_file  = 'label{}.png'.format(label_t)"
   ]
  },
  {
   "cell_type": "code",
   "execution_count": null,
   "metadata": {},
   "outputs": [],
   "source": [
    "\n",
    "\"\"\"\n",
    "# rm_arrowsh\n",
    "for i in range(start_slice, end_slice + 1):\n",
    "    path  = paras_path + 'para{}/'.format(i)\n",
    "    path2 = paras_path + 'para{}_new/'.format(i)\n",
    "    if not os.path.exists(path2):\n",
    "        os.makedirs(path2)\n",
    "\n",
    "    dirs = os.listdir(path)\n",
    "    for f in dirs:\n",
    "        img = cv2.imread(paras_path + 'para{}/'.format(i) + f, 0)\n",
    "        if img is not None and f[0] != 'S':\n",
    "            \n",
    "            listCoordmax0 = np.where(img > 200)\n",
    "            listCoordmax = list(zip(listCoordmax0[0], listCoordmax0[1]))\n",
    "            listfilling = list(zip(listCoordmax0[0], listCoordmax0[1] - 5))\n",
    "            \n",
    "            for pos1, pos2 in zip(listCoordmax, listfilling):\n",
    "                img[pos1] = img[pos2]\n",
    "            # print(path+f)\n",
    "            \n",
    "            cv2.imwrite(path2 + f, img)\n",
    "\"\"\""
   ]
  },
  {
   "cell_type": "code",
   "execution_count": null,
   "metadata": {},
   "outputs": [],
   "source": [
    "# rm_arrows(02Mar)\n",
    "\"\"\"\n",
    "for i in range(start_slice, end_slice + 1):\n",
    "    path  = paras_path + 'para{}/'.format(i)\n",
    "    path2 = paras_path + 'para{}_new/'.format(i)\n",
    "    if not os.path.exists(path2):\n",
    "        os.makedirs(path2)\n",
    "\n",
    "    dirs = os.listdir(path)\n",
    "    for f in dirs:\n",
    "        img = cv2.imread(paras_path + 'para{}/'.format(i) + f, 0)\n",
    "        if img is not None and f[0] != 'S':\n",
    "            \n",
    "            img = img[40:390, 40:476-30, ...]\n",
    "            # print(path+f)\n",
    "            cv2.imwrite(path2 + f, img)\n",
    "\"\"\""
   ]
  },
  {
   "cell_type": "code",
   "execution_count": null,
   "metadata": {},
   "outputs": [],
   "source": [
    "# convert.py\n",
    "for i in range(start_slice, end_slice + 1): \n",
    "    label_1 = 255 - cv2.imread(case_path + 'time{0:03d}/Segmented/Segmented Slice{1:03d}.png'.format(anchor_1, i))\n",
    "    # print('time{0:03d}/segmented/Segmented Slice{1:03d}.png'.format(anchor_1, i).format(anchor_1, i))\n",
    "    label_2 = 255 - cv2.imread(case_path + 'time{0:03d}/Segmented/Segmented Slice{1:03d}.png'.format(anchor_2, i))\n",
    "    # print(label_1.shape)\n",
    "    label_1 = np.uint8(label_1 == 0)*100 + 50\n",
    "    label_2 = np.uint8(label_2 == 0)*100 + 50\n",
    "\n",
    "    cv2.imwrite(paras_path + 'para{}_new/label{}.png'.format(i, anchor_1), label_1)\n",
    "    cv2.imwrite(paras_path + 'para{}_new/label{}.png'.format(i, anchor_2), label_2)"
   ]
  },
  {
   "cell_type": "code",
   "execution_count": null,
   "metadata": {},
   "outputs": [],
   "source": [
    "# convert.py(02Mar)\n",
    "\"\"\" \n",
    "for i in range(start_slice, end_slice + 1): \n",
    "    label_1 = 255 - cv2.imread(case_path + 'time{0:03d}/Segmented/Segmented Slice{1:03d}.png'.format(anchor_1, i))\n",
    "    # print('time{0:03d}/segmented/Segmented Slice{1:03d}.png'.format(anchor_1, i).format(anchor_1, i))\n",
    "    label_2 = 255 - cv2.imread(case_path + 'time{0:03d}/Segmented/Segmented Slice{1:03d}.png'.format(anchor_2, i))\n",
    "    # print(label_1.shape)\n",
    "    label_1 = label_1[40:390, 40:476-30, ...]\n",
    "    label_2 = label_2[40:390, 40:476-30, ...]\n",
    "    label_1 = np.uint8(label_1 == 0)*100 + 50\n",
    "    label_2 = np.uint8(label_2 == 0)*100 + 50\n",
    "    cv2.imwrite(paras_path + 'para{}_new/label{}.png'.format(i, anchor_1), label_1)\n",
    "    cv2.imwrite(paras_path + 'para{}_new/label{}.png'.format(i, anchor_2), label_2)\n",
    "\"\"\"\n"
   ]
  },
  {
   "cell_type": "code",
   "execution_count": null,
   "metadata": {},
   "outputs": [],
   "source": [
    "# solve.py\n",
    "for slice in range(start_slice, end_slice + 1):\n",
    "    anchor= [[anchor_1 - 1 , anchor_2 - 1,paras_path + 'para{}_new/label{}.png'.format(slice, anchor_1), paras_path + 'para{}_new/label{}.png'.format(slice, anchor_2)]]\n",
    "    savePath = paras_path + 'para{}_new/'.format(slice)\n",
    "    if not os.path.exists(savePath + 'scale.txt'):\n",
    "        sh.copyfile(paras_path + '../scale.txt', savePath + 'scale.txt')\n",
    "    simpleSolver(savePath,startstep=1,endstep=6,fileScale=None,\n",
    "                 getCompoundTimeList=range(start_t, end_t + 1),\n",
    "                 compoundSchemeList=None,fftLagrangian=True,\n",
    "                 pngFileFormat=None,period=None,maskImg=True,\n",
    "                 anchor=anchor,bgrid=30.,imgfmt='uint8',\n",
    "                 finalShape=None,fourierTerms=4,twoD=True)\n",
    "    # change everything to appropriate dimensions before mp.image.save"
   ]
  },
  {
   "cell_type": "code",
   "execution_count": null,
   "metadata": {},
   "outputs": [],
   "source": [
    "# transform.py\n",
    "# Transforms the labels to the labels of the appropriate time points\n",
    "\n",
    "for slice in range(start_slice, end_slice + 1):\n",
    "    label = cv2.imread(paras_path + '/para{}_new/'.format(slice) + label_file,  0)\n",
    "    stlFile = cv2.GaussianBlur(label, (5,5), 20)\n",
    "    # print(label)\n",
    "    for t in range(start_t, end_t + 1):\n",
    "        if t != label_t-1:\n",
    "            trfFile = paras_path + '/para{}_new/bsfTransform/t{}to{}.txt'.format(slice, t, label_t - 1)\n",
    "            # print(trfFile)\n",
    "            pf.transform_img2img(stlFile, trfFile,savePath=paras_path + 'para{}_new'.format(slice),fileName='trf{}'.format(t), scale=0.303030)    # scale should be the same as that in 'scale.txt'\n",
    "            trf_dir = paras_path + '/para{}_new/trfs/'.format(slice)\n",
    "            if not os.path.exists(trf_dir):\n",
    "                os.makedirs(trf_dir)\n",
    "            img = sitk.ReadImage(paras_path + '/para{}_new/trf{}.mha'.format(slice, t))\n",
    "            array = sitk.GetArrayFromImage(img)\n",
    "            array = np.uint8(array > 80)*255\n",
    "            cv2.imwrite(trf_dir + 'trf{}.png'.format(t + 1), array)\n",
    "        else:\n",
    "            print(\" \")\n",
    "            trf_dir = paras_path + '/para{}_new/trfs/'.format(slice)\n",
    "            array = np.uint8(label > 80)*255\n",
    "            cv2.imwrite(trf_dir + 'trf{}.png'.format(t + 1), array)"
   ]
  },
  {
   "cell_type": "code",
   "execution_count": null,
   "metadata": {},
   "outputs": [],
   "source": [
    "# masking.py\n",
    "for slice in range(start_slice, end_slice + 1):\n",
    "    # print(label)\n",
    "    \n",
    "    for t in range(start_t + 1, end_t + 1):\n",
    "        # pic_file  = case_path + 'time{0:03d}/'.format(t) + 'slice{0:03d}time{1:03d}.png'.format(slice, t)\n",
    "        label = cv2.imread(paras_path + 'para{}_new/'.format(slice) + 'trfs/trf{}.png'.format(t),  0)\n",
    "        pic_file = paras_path + 'para{}_new/'.format(slice) + 'time{0:03d}.png'.format(t)\n",
    "        # print(pic_file)\n",
    "        pic = cv2.imread(pic_file)\n",
    "        pic[..., 2] = 0.8*pic[..., 2] + 0.2 * label             # overlays the  labels to the original picture in red\n",
    "        # dst = pic[..., 2] + 50 * np.uint8(label == label.max())\n",
    "        masked_path = paras_path + 'para{}_new/'.format(slice) + 'masked/'\n",
    "        if not os.path.exists(masked_path):\n",
    "            os.makedirs(masked_path)\n",
    "        # print(masked_path)\n",
    "        cv2.imwrite(masked_path + 'slice{0:03d}time{1:03d}.png'.format(slice, t), pic)"
   ]
  },
  {
   "cell_type": "code",
   "execution_count": null,
   "metadata": {},
   "outputs": [],
   "source": []
  }
 ],
 "metadata": {
  "kernelspec": {
   "display_name": "py39",
   "language": "python",
   "name": "py39"
  },
  "language_info": {
   "codemirror_mode": {
    "name": "ipython",
    "version": 3
   },
   "file_extension": ".py",
   "mimetype": "text/x-python",
   "name": "python",
   "nbconvert_exporter": "python",
   "pygments_lexer": "ipython3",
   "version": "3.9.15"
  },
  "vscode": {
   "interpreter": {
    "hash": "bdc7eb8be65b6258334ed6d2ce55edc292b4a257fd3dfaf4c78874aa0f14575a"
   }
  }
 },
 "nbformat": 4,
 "nbformat_minor": 2
}
