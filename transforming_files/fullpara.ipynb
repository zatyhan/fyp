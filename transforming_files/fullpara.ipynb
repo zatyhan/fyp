{
 "cells": [
  {
   "cell_type": "code",
   "execution_count": 1,
   "id": "805a2bc2",
   "metadata": {},
   "outputs": [],
   "source": [
    "import cv2\n",
    "import imageio\n",
    "import numpy as np\n",
    "import os"
   ]
  },
  {
   "cell_type": "code",
   "execution_count": 2,
   "id": "4e8041cf",
   "metadata": {},
   "outputs": [
    {
     "name": "stdout",
     "output_type": "stream",
     "text": [
      "/Users/nureizzatyhamzaid/Library/Mobile Documents/com~apple~CloudDocs/FYP_23/Disease/Case 107/Pre_Slices/\n"
     ]
    }
   ],
   "source": [
    "stack_num= 107\n",
    "stack_dir = f\"/Users/nureizzatyhamzaid/Library/Mobile Documents/com~apple~CloudDocs/FYP_23/Disease/Case {stack_num:03d}/Pre_Slices/\"\n",
    "time_list = []\n",
    "max_time = 37\n",
    "for t in range(1,max_time+1):\n",
    "    \"\"\"\n",
    "    if t < 10:\n",
    "        time_str = 'time' + '00' + str(t)\n",
    "        time_list.append(time_str)\n",
    "    if t >= 10:\n",
    "        time_str = 'time'+ '0' + str(t) \n",
    "        time_list.append(time_str)\n",
    "    \"\"\"\n",
    "    time_str = 'time{0:03d}'.format(t)\n",
    "    time_list.append(time_str)\n",
    "print(stack_dir)\n"
   ]
  },
  {
   "cell_type": "code",
   "execution_count": 25,
   "id": "327ee41a",
   "metadata": {},
   "outputs": [
    {
     "name": "stdout",
     "output_type": "stream",
     "text": [
      "1\n",
      "2\n",
      "3\n",
      "4\n",
      "5\n",
      "6\n",
      "7\n",
      "8\n",
      "9\n",
      "10\n",
      "11\n",
      "12\n",
      "13\n",
      "14\n",
      "15\n",
      "16\n",
      "17\n",
      "18\n",
      "19\n",
      "20\n",
      "21\n",
      "22\n",
      "23\n",
      "24\n",
      "25\n",
      "26\n",
      "27\n",
      "28\n",
      "29\n",
      "30\n",
      "31\n",
      "32\n",
      "33\n",
      "34\n",
      "35\n",
      "36\n",
      "37\n",
      "38\n",
      "39\n",
      "40\n",
      "41\n",
      "42\n",
      "43\n",
      "44\n",
      "45\n",
      "46\n",
      "47\n",
      "48\n",
      "49\n",
      "50\n",
      "51\n",
      "52\n",
      "53\n",
      "54\n",
      "55\n",
      "56\n",
      "57\n",
      "58\n",
      "59\n",
      "60\n",
      "61\n",
      "62\n",
      "63\n"
     ]
    }
   ],
   "source": [
    "import os\n",
    "first_slice = 13\n",
    "last_slice = 24\n",
    "for desired_slice in range(first_slice,last_slice+1):\n",
    "    gif = []\n",
    "    dst_path = stack_dir + 'paras/para{}/'.format(desired_slice)\n",
    "    folder = os.path.exists(dst_path)\n",
    "    print(desired_slice)\n",
    "    if not folder:\n",
    "       os.makedirs(dst_path)\n",
    "    gif_path = stack_dir + 'gifs/'\n",
    "    folder = os.path.exists(gif_path)\n",
    "    if not folder:\n",
    "        os.makedirs(gif_path)\n",
    "    for time_dir in time_list:\n",
    "        frame_dir = stack_dir + time_dir + '/' + 'slice{0:03d}'.format(desired_slice) + time_dir + '.png'\n",
    "        # print(frame_dir)\n",
    "        frame = cv2.imread(frame_dir)\n",
    "        # print(frame)\n",
    "        gif.append(frame)\n",
    "        cv2.imwrite(dst_path + time_dir + '.png',frame)\n",
    "    saveGif = imageio.mimsave(gif_path + 'para{}.gif'.format(desired_slice), gif, 'GIF', duration = 0.05)"
   ]
  },
  {
   "cell_type": "code",
   "execution_count": 34,
   "id": "8d864f55",
   "metadata": {},
   "outputs": [
    {
     "name": "stdout",
     "output_type": "stream",
     "text": [
      "/Users/nureizzatyhamzaid/Library/Mobile Documents/com~apple~CloudDocs/FYP_23/Disease/Case 95/Pre_Slices/paras/para001/\n"
     ]
    }
   ],
   "source": [
    "case= 95\n",
    "start_time = 23\n",
    "end_time = 24\n",
    "s = 1\n",
    "stack_dir     =  f\"/Users/nureizzatyhamzaid/Library/Mobile Documents/com~apple~CloudDocs/FYP_23/Disease/Case {case}/Pre_Slices/paras/para{s:03d}/\" #f\"/home/haobo/Documents/UROP2021/16. 08Oct2019P3/time{t:03d}/\"\n",
    "print(stack_dir)"
   ]
  }
 ],
 "metadata": {
  "kernelspec": {
   "display_name": "Python 3.9.12 ('base')",
   "language": "python",
   "name": "python3"
  },
  "language_info": {
   "codemirror_mode": {
    "name": "ipython",
    "version": 3
   },
   "file_extension": ".py",
   "mimetype": "text/x-python",
   "name": "python",
   "nbconvert_exporter": "python",
   "pygments_lexer": "ipython3",
   "version": "3.9.12"
  },
  "vscode": {
   "interpreter": {
    "hash": "b5a6af15b239fa8ec3f864f0680cded2ac761dd6e72704a146b28f15fa7468b2"
   }
  }
 },
 "nbformat": 4,
 "nbformat_minor": 5
}
