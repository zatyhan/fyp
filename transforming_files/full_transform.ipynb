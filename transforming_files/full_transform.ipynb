{
 "cells": [
  {
   "cell_type": "code",
   "execution_count": 1,
   "metadata": {},
   "outputs": [
    {
     "name": "stderr",
     "output_type": "stream",
     "text": [
      "no display found. Using non-interactive Agg backend\n"
     ]
    }
   ],
   "source": [
    "import SimpleITK as sitk\n",
    "import numpy as np\n",
    "import cv2\n",
    "from motionSegmentation import simpleSolver\n",
    "import medImgProc.processFunc as pf\n",
    "import os\n",
    "import shutil as sh"
   ]
  },
  {
   "cell_type": "code",
   "execution_count": 3,
   "metadata": {},
   "outputs": [],
   "source": [
    "start_slice = 1\n",
    "end_slice   = 19\n",
    "anchor_1    = 7\n",
    "anchor_2    = 34\n",
    "start_t     = 0\n",
    "end_t       = 39\n",
    "label_t     = anchor_1\n",
    "case_path   = \"/Users/nureizzatyhamzaid/Desktop/FYP_23/Disease/Case 95/Pre_Slices\" \n",
    "paras_path  = case_path + '/paras/'\n",
    "label_file  = 'label{}.png'.format(label_t)"
   ]
  },
  {
   "cell_type": "code",
   "execution_count": 2,
   "metadata": {},
   "outputs": [
    {
     "name": "stdout",
     "output_type": "stream",
     "text": [
      "['Abs', 'AbsImageFilter', 'AbsoluteValueDifference', 'AbsoluteValueDifferenceImageFilter', 'Acos', 'AcosImageFilter', 'AdaptiveHistogramEqualization', 'AdaptiveHistogramEqualizationImageFilter', 'Add', 'AddImageFilter', 'AdditiveGaussianNoise', 'AdditiveGaussianNoiseImageFilter', 'AffineTransform', 'AggregateLabelMap', 'AggregateLabelMapFilter', 'And', 'AndImageFilter', 'AntiAliasBinary', 'AntiAliasBinaryImageFilter', 'ApproximateSignedDistanceMap', 'ApproximateSignedDistanceMapImageFilter', 'Asin', 'AsinImageFilter', 'Atan', 'Atan2', 'Atan2ImageFilter', 'AtanImageFilter', 'BSplineDecomposition', 'BSplineDecompositionImageFilter', 'BSplineTransform', 'BSplineTransformInitializer', 'BSplineTransformInitializerFilter', 'Bilateral', 'BilateralImageFilter', 'BinShrink', 'BinShrinkImageFilter', 'BinaryClosingByReconstruction', 'BinaryClosingByReconstructionImageFilter', 'BinaryContour', 'BinaryContourImageFilter', 'BinaryDilate', 'BinaryDilateImageFilter', 'BinaryErode', 'BinaryErodeImageFilter', 'BinaryFillhole', 'BinaryFillholeImageFilter', 'BinaryGrindPeak', 'BinaryGrindPeakImageFilter', 'BinaryImageToLabelMap', 'BinaryImageToLabelMapFilter', 'BinaryMagnitude', 'BinaryMagnitudeImageFilter', 'BinaryMedian', 'BinaryMedianImageFilter', 'BinaryMinMaxCurvatureFlow', 'BinaryMinMaxCurvatureFlowImageFilter', 'BinaryMorphologicalClosing', 'BinaryMorphologicalClosingImageFilter', 'BinaryMorphologicalOpening', 'BinaryMorphologicalOpeningImageFilter', 'BinaryNot', 'BinaryNotImageFilter', 'BinaryOpeningByReconstruction', 'BinaryOpeningByReconstructionImageFilter', 'BinaryProjection', 'BinaryProjectionImageFilter', 'BinaryPruning', 'BinaryPruningImageFilter', 'BinaryReconstructionByDilation', 'BinaryReconstructionByDilationImageFilter', 'BinaryReconstructionByErosion', 'BinaryReconstructionByErosionImageFilter', 'BinaryThinning', 'BinaryThinningImageFilter', 'BinaryThreshold', 'BinaryThresholdImageFilter', 'BinaryThresholdProjection', 'BinaryThresholdProjectionImageFilter', 'BinomialBlur', 'BinomialBlurImageFilter', 'BitwiseNot', 'BitwiseNotImageFilter', 'BlackTopHat', 'BlackTopHatImageFilter', 'BoundedReciprocal', 'BoundedReciprocalImageFilter', 'BoxMean', 'BoxMeanImageFilter', 'BoxSigma', 'BoxSigmaImageFilter', 'CannyEdgeDetection', 'CannyEdgeDetectionImageFilter', 'CannySegmentationLevelSet', 'CannySegmentationLevelSetImageFilter', 'Cast', 'CastImageFilter', 'CenteredTransformInitializer', 'CenteredTransformInitializerFilter', 'CenteredVersorTransformInitializer', 'CenteredVersorTransformInitializerFilter', 'ChangeLabel', 'ChangeLabelImageFilter', 'ChangeLabelLabelMap', 'ChangeLabelLabelMapFilter', 'CheckerBoard', 'CheckerBoardImageFilter', 'Clamp', 'ClampImageFilter', 'ClosingByReconstruction', 'ClosingByReconstructionImageFilter', 'CollidingFronts', 'CollidingFrontsImageFilter', 'Command', 'ComplexToImaginary', 'ComplexToImaginaryImageFilter', 'ComplexToModulus', 'ComplexToModulusImageFilter', 'ComplexToPhase', 'ComplexToPhaseImageFilter', 'ComplexToReal', 'ComplexToRealImageFilter', 'Compose', 'ComposeImageFilter', 'ComposeScaleSkewVersor3DTransform', 'CompositeTransform', 'ConfidenceConnected', 'ConfidenceConnectedImageFilter', 'ConnectedComponent', 'ConnectedComponentImageFilter', 'ConnectedThreshold', 'ConnectedThresholdImageFilter', 'ConstantPad', 'ConstantPadImageFilter', 'Convolution', 'ConvolutionImageFilter', 'Cos', 'CosImageFilter', 'Crop', 'CropImageFilter', 'CurvatureAnisotropicDiffusion', 'CurvatureAnisotropicDiffusionImageFilter', 'CurvatureFlow', 'CurvatureFlowImageFilter', 'CyclicShift', 'CyclicShiftImageFilter', 'DICOMOrient', 'DICOMOrientImageFilter', 'DICOMOrientImageFilter_GetDirectionCosinesFromOrientation', 'DICOMOrientImageFilter_GetOrientationFromDirectionCosines', 'DanielssonDistanceMap', 'DanielssonDistanceMapImageFilter', 'DemonsRegistrationFilter', 'Derivative', 'DerivativeImageFilter', 'DiffeomorphicDemonsRegistrationFilter', 'DilateObjectMorphology', 'DilateObjectMorphologyImageFilter', 'DiscreteGaussian', 'DiscreteGaussianDerivative', 'DiscreteGaussianDerivativeImageFilter', 'DiscreteGaussianImageFilter', 'DisplacementFieldJacobianDeterminant', 'DisplacementFieldJacobianDeterminantFilter', 'DisplacementFieldTransform', 'Divide', 'DivideFloor', 'DivideFloorImageFilter', 'DivideImageFilter', 'DivideReal', 'DivideRealImageFilter', 'DoubleDoubleMap', 'DoubleThreshold', 'DoubleThresholdImageFilter', 'EdgePotential', 'EdgePotentialImageFilter', 'Equal', 'EqualImageFilter', 'ErodeObjectMorphology', 'ErodeObjectMorphologyImageFilter', 'Euler2DTransform', 'Euler3DTransform', 'Exp', 'ExpImageFilter', 'ExpNegative', 'ExpNegativeImageFilter', 'Expand', 'ExpandImageFilter', 'Extract', 'ExtractImageFilter', 'FFTConvolution', 'FFTConvolutionImageFilter', 'FFTNormalizedCorrelation', 'FFTNormalizedCorrelationImageFilter', 'FFTPad', 'FFTPadImageFilter', 'FFTShift', 'FFTShiftImageFilter', 'FastApproximateRank', 'FastApproximateRankImageFilter', 'FastMarching', 'FastMarchingBase', 'FastMarchingBaseImageFilter', 'FastMarchingImageFilter', 'FastMarchingUpwindGradient', 'FastMarchingUpwindGradientImageFilter', 'FastSymmetricForcesDemonsRegistrationFilter', 'Flip', 'FlipImageFilter', 'ForwardFFT', 'ForwardFFTImageFilter', 'GaborImageSource', 'GaborSource', 'GaussianImageSource', 'GaussianSource', 'GeodesicActiveContourLevelSet', 'GeodesicActiveContourLevelSetImageFilter', 'GetArrayFromImage', 'GetArrayViewFromImage', 'GetImageFromArray', 'GetPixelIDValueAsString', 'GetPixelIDValueFromString', 'Gradient', 'GradientAnisotropicDiffusion', 'GradientAnisotropicDiffusionImageFilter', 'GradientImageFilter', 'GradientMagnitude', 'GradientMagnitudeImageFilter', 'GradientMagnitudeRecursiveGaussian', 'GradientMagnitudeRecursiveGaussianImageFilter', 'GradientRecursiveGaussian', 'GradientRecursiveGaussianImageFilter', 'GrayscaleConnectedClosing', 'GrayscaleConnectedClosingImageFilter', 'GrayscaleConnectedOpening', 'GrayscaleConnectedOpeningImageFilter', 'GrayscaleDilate', 'GrayscaleDilateImageFilter', 'GrayscaleErode', 'GrayscaleErodeImageFilter', 'GrayscaleFillhole', 'GrayscaleFillholeImageFilter', 'GrayscaleGeodesicDilate', 'GrayscaleGeodesicDilateImageFilter', 'GrayscaleGeodesicErode', 'GrayscaleGeodesicErodeImageFilter', 'GrayscaleGrindPeak', 'GrayscaleGrindPeakImageFilter', 'GrayscaleMorphologicalClosing', 'GrayscaleMorphologicalClosingImageFilter', 'GrayscaleMorphologicalOpening', 'GrayscaleMorphologicalOpeningImageFilter', 'Greater', 'GreaterEqual', 'GreaterEqualImageFilter', 'GreaterImageFilter', 'GridImageSource', 'GridSource', 'HConcave', 'HConcaveImageFilter', 'HConvex', 'HConvexImageFilter', 'HMaxima', 'HMaximaImageFilter', 'HMinima', 'HMinimaImageFilter', 'HalfHermitianToRealInverseFFT', 'HalfHermitianToRealInverseFFTImageFilter', 'Hash', 'HashImageFilter', 'HausdorffDistanceImageFilter', 'HistogramMatching', 'HistogramMatchingImageFilter', 'HuangThreshold', 'HuangThresholdImageFilter', 'ITKLogger', 'Image', 'ImageFileReader', 'ImageFileWriter', 'ImageFilter', 'ImageReaderBase', 'ImageReaderBase_GetImageIOFromFileName', 'ImageRegistrationMethod', 'ImageSeriesReader', 'ImageSeriesReader_GetGDCMSeriesFileNames', 'ImageSeriesReader_GetGDCMSeriesIDs', 'ImageSeriesWriter', 'ImageViewer', 'ImageViewer_GetGlobalDefaultApplication', 'ImageViewer_GetGlobalDefaultDebug', 'ImageViewer_GetGlobalDefaultExecutableNames', 'ImageViewer_GetGlobalDefaultFileExtension', 'ImageViewer_GetGlobalDefaultSearchPath', 'ImageViewer_GetProcessDelay', 'ImageViewer_SetGlobalDefaultApplication', 'ImageViewer_SetGlobalDefaultDebug', 'ImageViewer_SetGlobalDefaultDebugOff', 'ImageViewer_SetGlobalDefaultDebugOn', 'ImageViewer_SetGlobalDefaultExecutableNames', 'ImageViewer_SetGlobalDefaultFileExtension', 'ImageViewer_SetGlobalDefaultSearchPath', 'ImageViewer_SetProcessDelay', 'IntensityWindowing', 'IntensityWindowingImageFilter', 'IntermodesThreshold', 'IntermodesThresholdImageFilter', 'InverseDeconvolution', 'InverseDeconvolutionImageFilter', 'InverseDisplacementField', 'InverseDisplacementFieldImageFilter', 'InverseFFT', 'InverseFFTImageFilter', 'InvertDisplacementField', 'InvertDisplacementFieldImageFilter', 'InvertIntensity', 'InvertIntensityImageFilter', 'IsoContourDistance', 'IsoContourDistanceImageFilter', 'IsoDataThreshold', 'IsoDataThresholdImageFilter', 'IsolatedConnected', 'IsolatedConnectedImageFilter', 'IsolatedWatershed', 'IsolatedWatershedImageFilter', 'IterativeInverseDisplacementField', 'IterativeInverseDisplacementFieldImageFilter', 'JoinSeries', 'JoinSeriesImageFilter', 'KittlerIllingworthThreshold', 'KittlerIllingworthThresholdImageFilter', 'LabelContour', 'LabelContourImageFilter', 'LabelImageToLabelMap', 'LabelImageToLabelMapFilter', 'LabelIntensityStatisticsImageFilter', 'LabelMapContourOverlay', 'LabelMapContourOverlayImageFilter', 'LabelMapMask', 'LabelMapMaskImageFilter', 'LabelMapOverlay', 'LabelMapOverlayImageFilter', 'LabelMapToBinary', 'LabelMapToBinaryImageFilter', 'LabelMapToLabel', 'LabelMapToLabelImageFilter', 'LabelMapToRGB', 'LabelMapToRGBImageFilter', 'LabelOverlapMeasuresImageFilter', 'LabelOverlay', 'LabelOverlayImageFilter', 'LabelShapeStatisticsImageFilter', 'LabelStatisticsImageFilter', 'LabelToRGB', 'LabelToRGBImageFilter', 'LabelUniqueLabelMap', 'LabelUniqueLabelMapFilter', 'LabelVoting', 'LabelVotingImageFilter', 'LandmarkBasedTransformInitializer', 'LandmarkBasedTransformInitializerFilter', 'LandweberDeconvolution', 'LandweberDeconvolutionImageFilter', 'Laplacian', 'LaplacianImageFilter', 'LaplacianRecursiveGaussian', 'LaplacianRecursiveGaussianImageFilter', 'LaplacianSegmentationLevelSet', 'LaplacianSegmentationLevelSetImageFilter', 'LaplacianSharpening', 'LaplacianSharpeningImageFilter', 'Less', 'LessEqual', 'LessEqualImageFilter', 'LessImageFilter', 'LevelSetMotionRegistrationFilter', 'LiThreshold', 'LiThresholdImageFilter', 'Log', 'Log10', 'Log10ImageFilter', 'LogImageFilter', 'LoggerBase', 'LoggerBase_GetGlobalITKLogger', 'MagnitudeAndPhaseToComplex', 'MagnitudeAndPhaseToComplexImageFilter', 'Mask', 'MaskImageFilter', 'MaskNegated', 'MaskNegatedImageFilter', 'MaskedFFTNormalizedCorrelation', 'MaskedFFTNormalizedCorrelationImageFilter', 'Maximum', 'MaximumEntropyThreshold', 'MaximumEntropyThresholdImageFilter', 'MaximumImageFilter', 'MaximumProjection', 'MaximumProjectionImageFilter', 'Mean', 'MeanImageFilter', 'MeanProjection', 'MeanProjectionImageFilter', 'Median', 'MedianImageFilter', 'MedianProjection', 'MedianProjectionImageFilter', 'MergeLabelMap', 'MergeLabelMapFilter', 'MinMaxCurvatureFlow', 'MinMaxCurvatureFlowImageFilter', 'Minimum', 'MinimumImageFilter', 'MinimumMaximumImageFilter', 'MinimumProjection', 'MinimumProjectionImageFilter', 'MirrorPad', 'MirrorPadImageFilter', 'Modulus', 'ModulusImageFilter', 'MomentsThreshold', 'MomentsThresholdImageFilter', 'MorphologicalGradient', 'MorphologicalGradientImageFilter', 'MorphologicalWatershed', 'MorphologicalWatershedFromMarkers', 'MorphologicalWatershedFromMarkersImageFilter', 'MorphologicalWatershedImageFilter', 'MultiLabelSTAPLE', 'MultiLabelSTAPLEImageFilter', 'Multiply', 'MultiplyImageFilter', 'N4BiasFieldCorrection', 'N4BiasFieldCorrectionImageFilter', 'NaryAdd', 'NaryAddImageFilter', 'NaryMaximum', 'NaryMaximumImageFilter', 'NeighborhoodConnected', 'NeighborhoodConnectedImageFilter', 'Noise', 'NoiseImageFilter', 'Normalize', 'NormalizeImageFilter', 'NormalizeToConstant', 'NormalizeToConstantImageFilter', 'NormalizedCorrelation', 'NormalizedCorrelationImageFilter', 'Not', 'NotEqual', 'NotEqualImageFilter', 'NotImageFilter', 'ObjectOwnedBase', 'ObjectnessMeasure', 'ObjectnessMeasureImageFilter', 'OpeningByReconstruction', 'OpeningByReconstructionImageFilter', 'Or', 'OrImageFilter', 'OtsuMultipleThresholds', 'OtsuMultipleThresholdsImageFilter', 'OtsuThreshold', 'OtsuThresholdImageFilter', 'Paste', 'PasteImageFilter', 'PatchBasedDenoising', 'PatchBasedDenoisingImageFilter', 'PermuteAxes', 'PermuteAxesImageFilter', 'PhysicalPointImageSource', 'PhysicalPointSource', 'Pow', 'PowImageFilter', 'ProcessObject', 'ProcessObject_GetGlobalDefaultCoordinateTolerance', 'ProcessObject_GetGlobalDefaultDebug', 'ProcessObject_GetGlobalDefaultDirectionTolerance', 'ProcessObject_GetGlobalDefaultNumberOfThreads', 'ProcessObject_GetGlobalDefaultThreader', 'ProcessObject_GetGlobalWarningDisplay', 'ProcessObject_GlobalDefaultDebugOff', 'ProcessObject_GlobalDefaultDebugOn', 'ProcessObject_GlobalWarningDisplayOff', 'ProcessObject_GlobalWarningDisplayOn', 'ProcessObject_SetGlobalDefaultCoordinateTolerance', 'ProcessObject_SetGlobalDefaultDebug', 'ProcessObject_SetGlobalDefaultDirectionTolerance', 'ProcessObject_SetGlobalDefaultNumberOfThreads', 'ProcessObject_SetGlobalDefaultThreader', 'ProcessObject_SetGlobalWarningDisplay', 'ProjectedLandweberDeconvolution', 'ProjectedLandweberDeconvolutionImageFilter', 'PyCommand', 'Rank', 'RankImageFilter', 'ReadImage', 'ReadTransform', 'RealAndImaginaryToComplex', 'RealAndImaginaryToComplexImageFilter', 'RealToHalfHermitianForwardFFT', 'RealToHalfHermitianForwardFFTImageFilter', 'ReconstructionByDilation', 'ReconstructionByDilationImageFilter', 'ReconstructionByErosion', 'ReconstructionByErosionImageFilter', 'RecursiveGaussian', 'RecursiveGaussianImageFilter', 'RegionOfInterest', 'RegionOfInterestImageFilter', 'RegionalMaxima', 'RegionalMaximaImageFilter', 'RegionalMinima', 'RegionalMinimaImageFilter', 'RelabelComponent', 'RelabelComponentImageFilter', 'RelabelLabelMap', 'RelabelLabelMapFilter', 'RenyiEntropyThreshold', 'RenyiEntropyThresholdImageFilter', 'Resample', 'ResampleImageFilter', 'RescaleIntensity', 'RescaleIntensityImageFilter', 'RichardsonLucyDeconvolution', 'RichardsonLucyDeconvolutionImageFilter', 'Round', 'RoundImageFilter', 'SITK_ITK_VERSION_MAJOR', 'SITK_ITK_VERSION_MINOR', 'SITK_ITK_VERSION_PATCH', 'SITK_MAX_DIMENSION', 'SLIC', 'SLICImageFilter', 'STAPLE', 'STAPLEImageFilter', 'SaltAndPepperNoise', 'SaltAndPepperNoiseImageFilter', 'ScalarChanAndVeseDenseLevelSet', 'ScalarChanAndVeseDenseLevelSetImageFilter', 'ScalarConnectedComponent', 'ScalarConnectedComponentImageFilter', 'ScalarImageKmeans', 'ScalarImageKmeansImageFilter', 'ScalarToRGBColormap', 'ScalarToRGBColormapImageFilter', 'ScaleSkewVersor3DTransform', 'ScaleTransform', 'ScaleVersor3DTransform', 'ShanbhagThreshold', 'ShanbhagThresholdImageFilter', 'ShapeDetectionLevelSet', 'ShapeDetectionLevelSetImageFilter', 'ShiftScale', 'ShiftScaleImageFilter', 'ShotNoise', 'ShotNoiseImageFilter', 'Show', 'Shrink', 'ShrinkImageFilter', 'Sigmoid', 'SigmoidImageFilter', 'SignedDanielssonDistanceMap', 'SignedDanielssonDistanceMapImageFilter', 'SignedMaurerDistanceMap', 'SignedMaurerDistanceMapImageFilter', 'Similarity2DTransform', 'Similarity3DTransform', 'SimilarityIndexImageFilter', 'SimpleContourExtractor', 'SimpleContourExtractorImageFilter', 'SimpleITK', 'Sin', 'SinImageFilter', 'Slice', 'SliceImageFilter', 'SmoothingRecursiveGaussian', 'SmoothingRecursiveGaussianImageFilter', 'SobelEdgeDetection', 'SobelEdgeDetectionImageFilter', 'SpeckleNoise', 'SpeckleNoiseImageFilter', 'Sqrt', 'SqrtImageFilter', 'Square', 'SquareImageFilter', 'SquaredDifference', 'SquaredDifferenceImageFilter', 'StandardDeviationProjection', 'StandardDeviationProjectionImageFilter', 'StatisticsImageFilter', 'StochasticFractalDimension', 'StochasticFractalDimensionImageFilter', 'Subtract', 'SubtractImageFilter', 'SumProjection', 'SumProjectionImageFilter', 'SwigPyIterator', 'SymmetricForcesDemonsRegistrationFilter', 'Tan', 'TanImageFilter', 'TernaryAdd', 'TernaryAddImageFilter', 'TernaryMagnitude', 'TernaryMagnitudeImageFilter', 'TernaryMagnitudeSquared', 'TernaryMagnitudeSquaredImageFilter', 'Threshold', 'ThresholdImageFilter', 'ThresholdMaximumConnectedComponents', 'ThresholdMaximumConnectedComponentsImageFilter', 'ThresholdSegmentationLevelSet', 'ThresholdSegmentationLevelSetImageFilter', 'TikhonovDeconvolution', 'TikhonovDeconvolutionImageFilter', 'Tile', 'TileImageFilter', 'Toboggan', 'TobogganImageFilter', 'Transform', 'TransformGeometry', 'TransformGeometryImageFilter', 'TransformToDisplacementField', 'TransformToDisplacementFieldFilter', 'TranslationTransform', 'TriangleThreshold', 'TriangleThresholdImageFilter', 'UnaryMinus', 'UnaryMinusImageFilter', 'UnsharpMask', 'UnsharpMaskImageFilter', 'ValuedRegionalMaxima', 'ValuedRegionalMaximaImageFilter', 'ValuedRegionalMinima', 'ValuedRegionalMinimaImageFilter', 'VectorBool', 'VectorConfidenceConnected', 'VectorConfidenceConnectedImageFilter', 'VectorConnectedComponent', 'VectorConnectedComponentImageFilter', 'VectorDouble', 'VectorFloat', 'VectorIndexSelectionCast', 'VectorIndexSelectionCastImageFilter', 'VectorInt16', 'VectorInt32', 'VectorInt64', 'VectorInt8', 'VectorMagnitude', 'VectorMagnitudeImageFilter', 'VectorOfImage', 'VectorOfTransform', 'VectorString', 'VectorUInt16', 'VectorUInt32', 'VectorUInt64', 'VectorUInt8', 'VectorUIntList', 'Version', 'Version_BuildDate', 'Version_ExtendedVersionString', 'Version_ITKMajorVersion', 'Version_ITKMinorVersion', 'Version_ITKModulesEnabled', 'Version_ITKPatchVersion', 'Version_ITKVersionString', 'Version_MajorVersion', 'Version_MinorVersion', 'Version_PatchVersion', 'Version_TweakVersion', 'Version_VersionString', 'VersorRigid3DTransform', 'VersorTransform', 'VotingBinary', 'VotingBinaryHoleFilling', 'VotingBinaryHoleFillingImageFilter', 'VotingBinaryImageFilter', 'VotingBinaryIterativeHoleFilling', 'VotingBinaryIterativeHoleFillingImageFilter', 'Warp', 'WarpImageFilter', 'WhiteTopHat', 'WhiteTopHatImageFilter', 'WienerDeconvolution', 'WienerDeconvolutionImageFilter', 'WrapPad', 'WrapPadImageFilter', 'WriteImage', 'WriteTransform', 'Xor', 'XorImageFilter', 'YenThreshold', 'YenThresholdImageFilter', 'ZeroCrossing', 'ZeroCrossingBasedEdgeDetection', 'ZeroCrossingBasedEdgeDetectionImageFilter', 'ZeroCrossingImageFilter', 'ZeroFluxNeumannPad', 'ZeroFluxNeumannPadImageFilter', '_SimpleITK', '__builtins__', '__cached__', '__doc__', '__file__', '__loader__', '__name__', '__package__', '__path__', '__spec__', '__version__', '_version', 'cvar', 'extra', 'namedtuple', 'operator', 'sitkAbortEvent', 'sitkAffine', 'sitkAnnulus', 'sitkAnyEvent', 'sitkBSpline', 'sitkBSpline1', 'sitkBSpline2', 'sitkBSpline3', 'sitkBSpline4', 'sitkBSpline5', 'sitkBSplineResampler', 'sitkBSplineResamplerOrder1', 'sitkBSplineResamplerOrder2', 'sitkBSplineResamplerOrder3', 'sitkBSplineResamplerOrder4', 'sitkBSplineResamplerOrder5', 'sitkBSplineTransform', 'sitkBall', 'sitkBlackmanWindowedSinc', 'sitkBox', 'sitkComplexFloat32', 'sitkComplexFloat64', 'sitkComposeScaleSkewVersor', 'sitkComposite', 'sitkCosineWindowedSinc', 'sitkCross', 'sitkDeleteEvent', 'sitkDisplacementField', 'sitkEndEvent', 'sitkEuler', 'sitkFloat32', 'sitkFloat64', 'sitkGaussian', 'sitkHammingWindowedSinc', 'sitkIdentity', 'sitkInt16', 'sitkInt32', 'sitkInt64', 'sitkInt8', 'sitkIterationEvent', 'sitkLabelGaussian', 'sitkLabelUInt16', 'sitkLabelUInt32', 'sitkLabelUInt64', 'sitkLabelUInt8', 'sitkLanczosWindowedSinc', 'sitkLinear', 'sitkMultiResolutionIterationEvent', 'sitkNearestNeighbor', 'sitkPolygon3', 'sitkPolygon4', 'sitkPolygon5', 'sitkPolygon6', 'sitkPolygon7', 'sitkPolygon8', 'sitkPolygon9', 'sitkProgressEvent', 'sitkQuaternionRigid', 'sitkScale', 'sitkScaleLogarithmic', 'sitkScaleSkewVersor', 'sitkScaleVersor', 'sitkSimilarity', 'sitkStartEvent', 'sitkTranslation', 'sitkUInt16', 'sitkUInt32', 'sitkUInt64', 'sitkUInt8', 'sitkUnknown', 'sitkUnknownTransform', 'sitkUserEvent', 'sitkVectorFloat32', 'sitkVectorFloat64', 'sitkVectorInt16', 'sitkVectorInt32', 'sitkVectorInt64', 'sitkVectorInt8', 'sitkVectorUInt16', 'sitkVectorUInt32', 'sitkVectorUInt64', 'sitkVectorUInt8', 'sitkVersor', 'sitkVersorRigid', 'sitkWallClock', 'sitkWelchWindowedSinc', 'sys', 'weakref']\n"
     ]
    }
   ],
   "source": [
    "print(dir(sitk))"
   ]
  },
  {
   "cell_type": "code",
   "execution_count": null,
   "metadata": {},
   "outputs": [],
   "source": [
    "\n",
    "\"\"\"\n",
    "# rm_arrowsh\n",
    "for i in range(start_slice, end_slice + 1):\n",
    "    path  = paras_path + 'para{}/'.format(i)\n",
    "    path2 = paras_path + 'para{}_new/'.format(i)\n",
    "    if not os.path.exists(path2):\n",
    "        os.makedirs(path2)\n",
    "\n",
    "    dirs = os.listdir(path)\n",
    "    for f in dirs:\n",
    "        img = cv2.imread(paras_path + 'para{}/'.format(i) + f, 0)\n",
    "        if img is not None and f[0] != 'S':\n",
    "            \n",
    "            listCoordmax0 = np.where(img > 200)\n",
    "            listCoordmax = list(zip(listCoordmax0[0], listCoordmax0[1]))\n",
    "            listfilling = list(zip(listCoordmax0[0], listCoordmax0[1] - 5))\n",
    "            \n",
    "            for pos1, pos2 in zip(listCoordmax, listfilling):\n",
    "                img[pos1] = img[pos2]\n",
    "            # print(path+f)\n",
    "            \n",
    "            cv2.imwrite(path2 + f, img)\n",
    "\"\"\""
   ]
  },
  {
   "cell_type": "code",
   "execution_count": null,
   "metadata": {},
   "outputs": [],
   "source": [
    "# rm_arrows(02Mar)\n",
    "\"\"\"\n",
    "for i in range(start_slice, end_slice + 1):\n",
    "    path  = paras_path + 'para{}/'.format(i)\n",
    "    path2 = paras_path + 'para{}_new/'.format(i)\n",
    "    if not os.path.exists(path2):\n",
    "        os.makedirs(path2)\n",
    "\n",
    "    dirs = os.listdir(path)\n",
    "    for f in dirs:\n",
    "        img = cv2.imread(paras_path + 'para{}/'.format(i) + f, 0)\n",
    "        if img is not None and f[0] != 'S':\n",
    "            \n",
    "            img = img[40:390, 40:476-30, ...]\n",
    "            # print(path+f)\n",
    "            cv2.imwrite(path2 + f, img)\n",
    "\"\"\""
   ]
  },
  {
   "cell_type": "code",
   "execution_count": null,
   "metadata": {},
   "outputs": [],
   "source": [
    "# # convert.py\n",
    "# for i in range(start_slice, end_slice): \n",
    "# #     print(paras_path + 'Segmented/Segmented Slice{0}time{1:03d}.png'.format(i, anchor_1))\n",
    "#     label_1 = 255 - cv2.imread(paras_path + 'Segmented/Segmented Slice{0}time{1:03d}.png'.format(i, anchor_1))\n",
    "#     # print('time{0:03d}/segmented/Segmented Slice{1:03d}.png'.format(anchor_1, i).format(anchor_1, i))\n",
    "#     label_2 = 255 - cv2.imread(paras_path + 'Segmented/Segmented Slice{0}time{1:03d}.png'.format(i, anchor_2))\n",
    "#     # print(label_1.shape)\n",
    "#     label_1 = np.uint8(label_1 == 0)*100 + 50\n",
    "#     label_2 = np.uint8(label_2 == 0)*100 + 50\n",
    "\n",
    "#     cv2.imwrite(paras_path + 'para{}_new/label{}.png'.format(i, anchor_1), label_1)\n",
    "#     cv2.imwrite(paras_path + 'para{}_new/label{}.png'.format(i, anchor_2), label_2)"
   ]
  },
  {
   "cell_type": "code",
   "execution_count": 4,
   "metadata": {},
   "outputs": [],
   "source": [
    "# convert.py\n",
    "\n",
    "from fill_chamber import draw_max_contour\n",
    "\n",
    "for i in range(start_slice, end_slice+1):\n",
    "\n",
    "    # label_1 = 255 - cv2.imread(case_path + 'time{0:03d}/Segmented/Segmented Slice{1:03d}.png'.format(anchor_1, i))\n",
    "\n",
    "    label_1 = cv2.imread(paras_path + 'Segmented/Segmented Slice{0}time{1:03d}.png'.format(i, anchor_1), 0)\n",
    "#     print(paras_path + 'Segmented/Segmented Slice{0}time{1:03d}.png'.format(i, anchor_1))\n",
    "\n",
    "    _, label_1 = draw_max_contour(label_1)\n",
    "\n",
    "    label_1 = 255 - label_1\n",
    "\n",
    "    # print('time{0:03d}/segmented/Segmented Slice{1:03d}.png'.format(anchor_1, i).format(anchor_1, i))\n",
    "\n",
    "    # label_2 = 255 - cv2.imread(case_path + 'time{0:03d}/Segmented/Segmented Slice{1:03d}.png'.format(anchor_2, i))\n",
    "\n",
    "    # print(label_1.shape)\n",
    "\n",
    "    label_2 = cv2.imread(paras_path + 'Segmented/Segmented Slice{0}time{1:03d}.png'.format(i, anchor_2), 0)\n",
    "\n",
    "    _, label_2 = draw_max_contour(label_2)\n",
    "\n",
    "    label_2 = 255 - label_2\n",
    "\n",
    "    \n",
    "\n",
    "    label_1 = np.uint8(label_1 == 0)*100 + 50\n",
    "\n",
    "    label_2 = np.uint8(label_2 == 0)*100 + 50\n",
    "\n",
    "\n",
    "\n",
    "    cv2.imwrite(paras_path + 'para{}_new/label{}.png'.format(i, anchor_1), label_1)\n",
    "\n",
    "    cv2.imwrite(paras_path + 'para{}_new/label{}.png'.format(i, anchor_2), label_2)"
   ]
  },
  {
   "cell_type": "code",
   "execution_count": null,
   "metadata": {},
   "outputs": [],
   "source": [
    "# convert.py(02Mar)\n",
    "\"\"\" \n",
    "for i in range(start_slice, end_slice + 1): \n",
    "    label_1 = 255 - cv2.imread(case_path + 'time{0:03d}/Segmented/Segmented Slice{1:03d}.png'.format(anchor_1, i))\n",
    "    # print('time{0:03d}/segmented/Segmented Slice{1:03d}.png'.format(anchor_1, i).format(anchor_1, i))\n",
    "    label_2 = 255 - cv2.imread(case_path + 'time{0:03d}/Segmented/Segmented Slice{1:03d}.png'.format(anchor_2, i))\n",
    "    # print(label_1.shape)\n",
    "    label_1 = label_1[40:390, 40:476-30, ...]\n",
    "    label_2 = label_2[40:390, 40:476-30, ...]\n",
    "    label_1 = np.uint8(label_1 == 0)*100 + 50\n",
    "    label_2 = np.uint8(label_2 == 0)*100 + 50\n",
    "    cv2.imwrite(paras_path + 'para{}_new/label{}.png'.format(i, anchor_1), label_1)\n",
    "    cv2.imwrite(paras_path + 'para{}_new/label{}.png'.format(i, anchor_2), label_2)\n",
    "\"\"\"\n"
   ]
  },
  {
   "cell_type": "code",
   "execution_count": null,
   "metadata": {},
   "outputs": [],
   "source": [
    "import os.path\n",
    "for slice in range(start_slice,end_slice +1):\n",
    "    save_path = f\"/Users/nureizzatyhamzaid/Desktop/FYP_23/Disease/Case 95/Pre_Slices/paras/para{slice}_new\"\n",
    "    print(save_path)\n",
    "    completeName = os.path.join(save_path, \"scale.txt\")         \n",
    "\n",
    "    file1 = open(completeName, \"w\")\n",
    "\n",
    "    file1.write(\"0.057471 0.057471 0.500000\")\n",
    "\n",
    "    file1.close()"
   ]
  },
  {
   "cell_type": "raw",
   "metadata": {},
   "source": []
  },
  {
   "cell_type": "code",
   "execution_count": 5,
   "metadata": {},
   "outputs": [
    {
     "name": "stdout",
     "output_type": "stream",
     "text": [
      "/Users/nureizzatyhamzaid/Desktop/FYP_23/Disease/Case 95/Pre_Slices/paras/para1_new\n"
     ]
    },
    {
     "ename": "AttributeError",
     "evalue": "module 'SimpleITK' has no attribute 'VectorOfParameterMap'",
     "output_type": "error",
     "traceback": [
      "\u001b[0;31m---------------------------------------------------------------------------\u001b[0m",
      "\u001b[0;31mAttributeError\u001b[0m                            Traceback (most recent call last)",
      "Cell \u001b[0;32mIn [5], line 10\u001b[0m\n\u001b[1;32m      8\u001b[0m     \u001b[38;5;28mprint\u001b[39m(savePath \u001b[38;5;241m+\u001b[39m \u001b[38;5;124m'\u001b[39m\u001b[38;5;124m/scale.txt\u001b[39m\u001b[38;5;124m'\u001b[39m)\n\u001b[1;32m      9\u001b[0m     sh\u001b[38;5;241m.\u001b[39mcopyfile(paras_path \u001b[38;5;241m+\u001b[39m \u001b[38;5;124m'\u001b[39m\u001b[38;5;124m../scale.txt\u001b[39m\u001b[38;5;124m'\u001b[39m, savePath \u001b[38;5;241m+\u001b[39m \u001b[38;5;124m'\u001b[39m\u001b[38;5;124m/scale.txt\u001b[39m\u001b[38;5;124m'\u001b[39m)\n\u001b[0;32m---> 10\u001b[0m \u001b[43msimpleSolver\u001b[49m\u001b[43m(\u001b[49m\u001b[43msavePath\u001b[49m\u001b[43m,\u001b[49m\u001b[43mstartstep\u001b[49m\u001b[38;5;241;43m=\u001b[39;49m\u001b[38;5;241;43m1\u001b[39;49m\u001b[43m,\u001b[49m\u001b[43mendstep\u001b[49m\u001b[38;5;241;43m=\u001b[39;49m\u001b[38;5;241;43m6\u001b[39;49m\u001b[43m,\u001b[49m\u001b[43mfileScale\u001b[49m\u001b[38;5;241;43m=\u001b[39;49m\u001b[38;5;28;43;01mNone\u001b[39;49;00m\u001b[43m,\u001b[49m\n\u001b[1;32m     11\u001b[0m \u001b[43m             \u001b[49m\u001b[43mgetCompoundTimeList\u001b[49m\u001b[38;5;241;43m=\u001b[39;49m\u001b[38;5;28;43mrange\u001b[39;49m\u001b[43m(\u001b[49m\u001b[43mstart_t\u001b[49m\u001b[43m,\u001b[49m\u001b[43m \u001b[49m\u001b[43mend_t\u001b[49m\u001b[43m \u001b[49m\u001b[38;5;241;43m+\u001b[39;49m\u001b[43m \u001b[49m\u001b[38;5;241;43m1\u001b[39;49m\u001b[43m)\u001b[49m\u001b[43m,\u001b[49m\n\u001b[1;32m     12\u001b[0m \u001b[43m             \u001b[49m\u001b[43mcompoundSchemeList\u001b[49m\u001b[38;5;241;43m=\u001b[39;49m\u001b[38;5;28;43;01mNone\u001b[39;49;00m\u001b[43m,\u001b[49m\u001b[43mfftLagrangian\u001b[49m\u001b[38;5;241;43m=\u001b[39;49m\u001b[38;5;28;43;01mTrue\u001b[39;49;00m\u001b[43m,\u001b[49m\n\u001b[1;32m     13\u001b[0m \u001b[43m             \u001b[49m\u001b[43mpngFileFormat\u001b[49m\u001b[38;5;241;43m=\u001b[39;49m\u001b[38;5;28;43;01mNone\u001b[39;49;00m\u001b[43m,\u001b[49m\u001b[43mperiod\u001b[49m\u001b[38;5;241;43m=\u001b[39;49m\u001b[38;5;28;43;01mNone\u001b[39;49;00m\u001b[43m,\u001b[49m\u001b[43mmaskImg\u001b[49m\u001b[38;5;241;43m=\u001b[39;49m\u001b[38;5;28;43;01mTrue\u001b[39;49;00m\u001b[43m,\u001b[49m\n\u001b[1;32m     14\u001b[0m \u001b[43m             \u001b[49m\u001b[43manchor\u001b[49m\u001b[38;5;241;43m=\u001b[39;49m\u001b[43manchor\u001b[49m\u001b[43m,\u001b[49m\u001b[43mbgrid\u001b[49m\u001b[38;5;241;43m=\u001b[39;49m\u001b[38;5;241;43m30.\u001b[39;49m\u001b[43m,\u001b[49m\u001b[43mimgfmt\u001b[49m\u001b[38;5;241;43m=\u001b[39;49m\u001b[38;5;124;43m'\u001b[39;49m\u001b[38;5;124;43muint8\u001b[39;49m\u001b[38;5;124;43m'\u001b[39;49m\u001b[43m,\u001b[49m\n\u001b[1;32m     15\u001b[0m \u001b[43m             \u001b[49m\u001b[43mfinalShape\u001b[49m\u001b[38;5;241;43m=\u001b[39;49m\u001b[38;5;28;43;01mNone\u001b[39;49;00m\u001b[43m,\u001b[49m\u001b[43mfourierTerms\u001b[49m\u001b[38;5;241;43m=\u001b[39;49m\u001b[38;5;241;43m4\u001b[39;49m\u001b[43m,\u001b[49m\u001b[43mtwoD\u001b[49m\u001b[38;5;241;43m=\u001b[39;49m\u001b[38;5;28;43;01mTrue\u001b[39;49;00m\u001b[43m)\u001b[49m\n",
      "File \u001b[0;32m~/opt/anaconda3/envs/py38/lib/python3.8/site-packages/motionSegmentation/__init__.py:315\u001b[0m, in \u001b[0;36msimpleSolver\u001b[0;34m(savePath, startstep, endstep, fileScale, getCompoundTimeList, compoundSchemeList, fftLagrangian, pngFileFormat, period, maskImg, anchor, bgrid, finalShape, fourierTerms, twoD, imgfmt)\u001b[0m\n\u001b[1;32m    313\u001b[0m     setOrigin\u001b[38;5;241m=\u001b[39m(\u001b[38;5;241m0.\u001b[39m,\u001b[38;5;241m0.\u001b[39m,\u001b[38;5;241m0.\u001b[39m)\n\u001b[1;32m    314\u001b[0m \u001b[38;5;28;01mif\u001b[39;00m fftLagrangian:\n\u001b[0;32m--> 315\u001b[0m     \u001b[43mpf\u001b[49m\u001b[38;5;241;43m.\u001b[39;49m\u001b[43mTmapRegister\u001b[49m\u001b[43m(\u001b[49m\u001b[43mimage\u001b[49m\u001b[43m,\u001b[49m\u001b[43msavePath\u001b[49m\u001b[38;5;241;43m=\u001b[39;49m\u001b[43msavePath\u001b[49m\u001b[43m,\u001b[49m\u001b[43morigin\u001b[49m\u001b[38;5;241;43m=\u001b[39;49m\u001b[43msetOrigin\u001b[49m\u001b[43m,\u001b[49m\u001b[43mbgrid\u001b[49m\u001b[38;5;241;43m=\u001b[39;49m\u001b[43mbgrid\u001b[49m\u001b[43m,\u001b[49m\u001b[43mbweight\u001b[49m\u001b[38;5;241;43m=\u001b[39;49m\u001b[38;5;241;43m1.\u001b[39;49m\u001b[43m,\u001b[49m\u001b[43mrms\u001b[49m\u001b[38;5;241;43m=\u001b[39;49m\u001b[38;5;28;43;01mTrue\u001b[39;49;00m\u001b[43m,\u001b[49m\u001b[43mstartTime\u001b[49m\u001b[38;5;241;43m=\u001b[39;49m\u001b[38;5;241;43m0\u001b[39;49m\u001b[43m,\u001b[49m\u001b[43mscaleImg\u001b[49m\u001b[38;5;241;43m=\u001b[39;49m\u001b[43mfileScale\u001b[49m\u001b[43m,\u001b[49m\u001b[43mmaskArray\u001b[49m\u001b[38;5;241;43m=\u001b[39;49m\u001b[43mmaskImg\u001b[49m\u001b[43m,\u001b[49m\u001b[43mtwoD\u001b[49m\u001b[38;5;241;43m=\u001b[39;49m\u001b[43mtwoD\u001b[49m\u001b[43m,\u001b[49m\u001b[43mcyclic\u001b[49m\u001b[38;5;241;43m=\u001b[39;49m\u001b[38;5;28;43;01mFalse\u001b[39;49;00m\u001b[43m)\u001b[49m\n\u001b[1;32m    316\u001b[0m \u001b[38;5;28;01melse\u001b[39;00m:\n\u001b[1;32m    317\u001b[0m     pf\u001b[38;5;241m.\u001b[39mTmapRegister(image,savePath\u001b[38;5;241m=\u001b[39msavePath,origin\u001b[38;5;241m=\u001b[39msetOrigin,bgrid\u001b[38;5;241m=\u001b[39mbgrid,bweight\u001b[38;5;241m=\u001b[39m\u001b[38;5;241m1.\u001b[39m,rms\u001b[38;5;241m=\u001b[39m\u001b[38;5;28;01mTrue\u001b[39;00m,startTime\u001b[38;5;241m=\u001b[39m\u001b[38;5;241m0\u001b[39m,scaleImg\u001b[38;5;241m=\u001b[39mfileScale,maskArray\u001b[38;5;241m=\u001b[39mmaskImg,twoD\u001b[38;5;241m=\u001b[39mtwoD,cyclic\u001b[38;5;241m=\u001b[39m\u001b[38;5;28;01mTrue\u001b[39;00m)\n",
      "File \u001b[0;32m~/opt/anaconda3/envs/py38/lib/python3.8/site-packages/medImgProc/processFunc.py:1170\u001b[0m, in \u001b[0;36mTmapRegister\u001b[0;34m(image, savePath, origin, bgrid, bweight, rms, startTime, refTimeStep, scaleImg, maskArray, writeImg, twoD, nres, smoothing, cyclic)\u001b[0m\n\u001b[1;32m   1168\u001b[0m \u001b[38;5;28;01melse\u001b[39;00m:\n\u001b[1;32m   1169\u001b[0m     spacing\u001b[38;5;241m=\u001b[39m(image\u001b[38;5;241m.\u001b[39mdimlen[\u001b[38;5;124m'\u001b[39m\u001b[38;5;124mx\u001b[39m\u001b[38;5;124m'\u001b[39m],image\u001b[38;5;241m.\u001b[39mdimlen[\u001b[38;5;124m'\u001b[39m\u001b[38;5;124my\u001b[39m\u001b[38;5;124m'\u001b[39m],image\u001b[38;5;241m.\u001b[39mdimlen[\u001b[38;5;124m'\u001b[39m\u001b[38;5;124mz\u001b[39m\u001b[38;5;124m'\u001b[39m])\n\u001b[0;32m-> 1170\u001b[0m parameterMapVector \u001b[38;5;241m=\u001b[39m \u001b[43msitk\u001b[49m\u001b[38;5;241;43m.\u001b[39;49m\u001b[43mVectorOfParameterMap\u001b[49m() \n\u001b[1;32m   1171\u001b[0m affine\u001b[38;5;241m=\u001b[39msitk\u001b[38;5;241m.\u001b[39mGetDefaultParameterMap(\u001b[38;5;124m\"\u001b[39m\u001b[38;5;124maffine\u001b[39m\u001b[38;5;124m\"\u001b[39m)\n\u001b[1;32m   1172\u001b[0m affine[\u001b[38;5;124m\"\u001b[39m\u001b[38;5;124mAutomaticScalesEstimation\u001b[39m\u001b[38;5;124m\"\u001b[39m]\u001b[38;5;241m=\u001b[39m( \u001b[38;5;124m\"\u001b[39m\u001b[38;5;124mtrue\u001b[39m\u001b[38;5;124m\"\u001b[39m, )\n",
      "\u001b[0;31mAttributeError\u001b[0m: module 'SimpleITK' has no attribute 'VectorOfParameterMap'"
     ]
    }
   ],
   "source": [
    "# solve.py\n",
    "for slice in range(start_slice, end_slice + 1):\n",
    "    anchor= [[anchor_1 - 1 , anchor_2 - 1,paras_path + 'para{}_new/label{}.png'.format(slice, anchor_1), paras_path + 'para{}_new/label{}.png'.format(slice, anchor_2)]]\n",
    "    savePath = paras_path + 'para{}_new'.format(slice)\n",
    "#     print(savePath)\n",
    "    print(savePath)\n",
    "    if not os.path.exists(savePath + '/scale.txt'):\n",
    "        print(savePath + '/scale.txt')\n",
    "        sh.copyfile(paras_path + '../scale.txt', savePath + '/scale.txt')\n",
    "    simpleSolver(savePath,startstep=1,endstep=6,fileScale=None,\n",
    "                 getCompoundTimeList=range(start_t, end_t + 1),\n",
    "                 compoundSchemeList=None,fftLagrangian=True,\n",
    "                 pngFileFormat=None,period=None,maskImg=True,\n",
    "                 anchor=anchor,bgrid=30.,imgfmt='uint8',\n",
    "                 finalShape=None,fourierTerms=4,twoD=True)\n",
    "    # change everything to appropriate dimensions before mp.image.save"
   ]
  },
  {
   "cell_type": "code",
   "execution_count": null,
   "metadata": {},
   "outputs": [],
   "source": [
    "# transform.py\n",
    "# Transforms the labels to the labels of the appropriate time points\n",
    "\n",
    "for slice in range(start_slice, end_slice + 1):\n",
    "    label = cv2.imread(paras_path + '/para{}_new/'.format(slice) + label_file,  0)\n",
    "    stlFile = cv2.GaussianBlur(label, (5,5), 20)\n",
    "    # print(label)\n",
    "    for t in range(start_t, end_t + 1):\n",
    "        if t != label_t-1:\n",
    "            trfFile = paras_path + '/para{}_new/bsfTransform/t{}to{}.txt'.format(slice, t, label_t - 1)\n",
    "            # print(trfFile)\n",
    "            pf.transform_img2img(stlFile, trfFile,savePath=paras_path + 'para{}_new'.format(slice),fileName='trf{}'.format(t), scale=0.303030)    # scale should be the same as that in 'scale.txt'\n",
    "            trf_dir = paras_path + '/para{}_new/trfs/'.format(slice)\n",
    "            if not os.path.exists(trf_dir):\n",
    "                os.makedirs(trf_dir)\n",
    "            img = sitk.ReadImage(paras_path + '/para{}_new/trf{}.mha'.format(slice, t))\n",
    "            array = sitk.GetArrayFromImage(img)\n",
    "            array = np.uint8(array > 80)*255\n",
    "            cv2.imwrite(trf_dir + 'trf{}.png'.format(t + 1), array)\n",
    "        else:\n",
    "            print(\" \")\n",
    "            trf_dir = paras_path + '/para{}_new/trfs/'.format(slice)\n",
    "            array = np.uint8(label > 80)*255\n",
    "            cv2.imwrite(trf_dir + 'trf{}.png'.format(t + 1), array)"
   ]
  },
  {
   "cell_type": "code",
   "execution_count": null,
   "metadata": {},
   "outputs": [],
   "source": [
    "# masking.py\n",
    "for slice in range(start_slice, end_slice + 1):\n",
    "    # print(label)\n",
    "    \n",
    "    for t in range(start_t + 1, end_t + 1):\n",
    "        # pic_file  = case_path + 'time{0:03d}/'.format(t) + 'slice{0:03d}time{1:03d}.png'.format(slice, t)\n",
    "        label = cv2.imread(paras_path + 'para{}_new/'.format(slice) + 'trfs/trf{}.png'.format(t),  0)\n",
    "        pic_file = paras_path + 'para{}_new/'.format(slice) + 'time{0:03d}.png'.format(t)\n",
    "        # print(pic_file)\n",
    "        pic = cv2.imread(pic_file)\n",
    "        pic[..., 2] = 0.8*pic[..., 2] + 0.2 * label             # overlays the  labels to the original picture in red\n",
    "        # dst = pic[..., 2] + 50 * np.uint8(label == label.max())\n",
    "        masked_path = paras_path + 'para{}_new/'.format(slice) + 'masked/'\n",
    "        if not os.path.exists(masked_path):\n",
    "            os.makedirs(masked_path)\n",
    "        # print(masked_path)\n",
    "        cv2.imwrite(masked_path + 'slice{0:03d}time{1:03d}.png'.format(slice, t), pic)"
   ]
  },
  {
   "cell_type": "code",
   "execution_count": null,
   "metadata": {},
   "outputs": [],
   "source": [
    "import os.path\n",
    "\n",
    "save_path = '/Users/nureizzatyhamzaid/Desktop/FYP_23/Disease/Case 95/Pre_Slices/paras/para_new'\n",
    "\n",
    "completeName = os.path.join(save_path, \"scale.txt\")         \n",
    "\n",
    "file1 = open(completeName, \"w\")\n",
    "\n",
    "file1.write(\"0.05\")\n",
    "\n",
    "file1.close()"
   ]
  },
  {
   "cell_type": "code",
   "execution_count": null,
   "metadata": {},
   "outputs": [],
   "source": []
  }
 ],
 "metadata": {
  "kernelspec": {
   "display_name": "py38",
   "language": "python",
   "name": "py38"
  },
  "language_info": {
   "codemirror_mode": {
    "name": "ipython",
    "version": 3
   },
   "file_extension": ".py",
   "mimetype": "text/x-python",
   "name": "python",
   "nbconvert_exporter": "python",
   "pygments_lexer": "ipython3",
   "version": "3.8.15"
  },
  "vscode": {
   "interpreter": {
    "hash": "bdc7eb8be65b6258334ed6d2ce55edc292b4a257fd3dfaf4c78874aa0f14575a"
   }
  }
 },
 "nbformat": 4,
 "nbformat_minor": 2
}
